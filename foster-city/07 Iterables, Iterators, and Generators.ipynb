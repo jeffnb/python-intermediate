{
 "cells": [
  {
   "cell_type": "markdown",
   "metadata": {
    "slideshow": {
     "slide_type": "slide"
    }
   },
   "source": [
    "# Iterables vs. Iterators vs. Generators "
   ]
  },
  {
   "cell_type": "markdown",
   "metadata": {
    "slideshow": {
     "slide_type": "subslide"
    }
   },
   "source": [
    "## Let's explore the differences between...\n",
    "* a container\n",
    "* an iterable\n",
    "* an iterator\n",
    "* a generator\n",
    "* a generator expression\n",
    "* a {list, set, dict} comprehension\n"
   ]
  },
  {
   "cell_type": "markdown",
   "metadata": {
    "slideshow": {
     "slide_type": "subslide"
    }
   },
   "source": [
    "![alt-text](relationships.png)"
   ]
  },
  {
   "cell_type": "markdown",
   "metadata": {
    "slideshow": {
     "slide_type": "subslide"
    }
   },
   "source": [
    "## Containers \n",
    "* data structures which hold elements\n",
    "* support membership tests\n",
    "* live in memory\n",
    "* typically hold all their values in memory\n",
    "* e.g., string, list, tuple, set, dict\n",
    "* an object is a container when it can be asked whether it _contains_ a certain element"
   ]
  },
  {
   "cell_type": "code",
   "execution_count": 1,
   "metadata": {},
   "outputs": [
    {
     "data": {
      "text/plain": [
       "(True, False)"
      ]
     },
     "execution_count": 1,
     "metadata": {},
     "output_type": "execute_result"
    }
   ],
   "source": [
    "1 in [1, 2, 3], 0 in [1, 2, 3]"
   ]
  },
  {
   "cell_type": "code",
   "execution_count": 2,
   "metadata": {},
   "outputs": [
    {
     "data": {
      "text/plain": [
       "(True, False)"
      ]
     },
     "execution_count": 2,
     "metadata": {},
     "output_type": "execute_result"
    }
   ],
   "source": [
    "4 in {4, 5, 6}, 1 in {4, 5, 6}"
   ]
  },
  {
   "cell_type": "code",
   "execution_count": 22,
   "metadata": {},
   "outputs": [
    {
     "data": {
      "text/plain": [
       "True"
      ]
     },
     "execution_count": 22,
     "metadata": {},
     "output_type": "execute_result"
    }
   ],
   "source": [
    "44 in ('Obama', 'Barack', 44, 2008, 'left')"
   ]
  },
  {
   "cell_type": "code",
   "execution_count": 3,
   "metadata": {},
   "outputs": [
    {
     "data": {
      "text/plain": [
       "(True, False)"
      ]
     },
     "execution_count": 3,
     "metadata": {},
     "output_type": "execute_result"
    }
   ],
   "source": [
    "# for dicts, membership checks the keys, not the values\n",
    "44 in { 43: 'Bush', 44: 'Obama'}, 'Bush' in { 43: 'Bush', 44: 'Obama' }"
   ]
  },
  {
   "cell_type": "code",
   "execution_count": 2,
   "metadata": {},
   "outputs": [
    {
     "data": {
      "text/plain": [
       "(True, True, True)"
      ]
     },
     "execution_count": 2,
     "metadata": {},
     "output_type": "execute_result"
    }
   ],
   "source": [
    "'J' in 'Steve Jobs', 'Job' in 'Steve Jobs', 'Jobs' not in\n",
    "'Carlos Jobim'"
   ]
  },
  {
   "cell_type": "markdown",
   "metadata": {
    "slideshow": {
     "slide_type": "subslide"
    }
   },
   "source": [
    "## Iterables\n",
    "* any object, not necessarily a data structure, that can return an iterator (with the purpose of returning all of its elements)\n",
    "* the `__iter__()` function returns an iterator\n",
    "    * ...therefore, any object which has the `__iter__()` method is an iterable\n",
    "* most containers are also iterable\n",
    "* many more things are iterable as well (e.g., open files, open sockets, etc.)"
   ]
  },
  {
   "cell_type": "code",
   "execution_count": 1,
   "metadata": {},
   "outputs": [
    {
     "name": "stdout",
     "output_type": "stream",
     "text": [
      "<class 'list_iterator'>\n",
      "<class 'list_iterator'>\n"
     ]
    },
    {
     "data": {
      "text/plain": [
       "1"
      ]
     },
     "execution_count": 1,
     "metadata": {},
     "output_type": "execute_result"
    }
   ],
   "source": [
    "mylist = [1, 2, 3]\n",
    "iter1 = iter(mylist)\n",
    "print(type(iter1))\n",
    "iter2 = mylist.__iter__() # iter() maps to __iter__()\n",
    "print(type(iter2))\n",
    "next(iter1)"
   ]
  },
  {
   "cell_type": "code",
   "execution_count": 4,
   "metadata": {},
   "outputs": [
    {
     "data": {
      "text/plain": [
       "2"
      ]
     },
     "execution_count": 4,
     "metadata": {},
     "output_type": "execute_result"
    }
   ],
   "source": [
    "iter1.__next__() # next() maps to __next__()"
   ]
  },
  {
   "cell_type": "code",
   "execution_count": 5,
   "metadata": {},
   "outputs": [
    {
     "data": {
      "text/plain": [
       "3"
      ]
     },
     "execution_count": 5,
     "metadata": {},
     "output_type": "execute_result"
    }
   ],
   "source": [
    "next(iter1)"
   ]
  },
  {
   "cell_type": "code",
   "execution_count": 6,
   "metadata": {},
   "outputs": [
    {
     "ename": "StopIteration",
     "evalue": "",
     "output_type": "error",
     "traceback": [
      "\u001b[0;31m---------------------------------------------------------------------------\u001b[0m",
      "\u001b[0;31mStopIteration\u001b[0m                             Traceback (most recent call last)",
      "\u001b[0;32m<ipython-input-6-b262f28c3c80>\u001b[0m in \u001b[0;36m<module>\u001b[0;34m()\u001b[0m\n\u001b[0;32m----> 1\u001b[0;31m \u001b[0mnext\u001b[0m\u001b[0;34m(\u001b[0m\u001b[0miter1\u001b[0m\u001b[0;34m)\u001b[0m\u001b[0;34m\u001b[0m\u001b[0m\n\u001b[0m",
      "\u001b[0;31mStopIteration\u001b[0m: "
     ]
    }
   ],
   "source": [
    "next(iter1)"
   ]
  },
  {
   "cell_type": "code",
   "execution_count": 7,
   "metadata": {},
   "outputs": [
    {
     "data": {
      "text/plain": [
       "1"
      ]
     },
     "execution_count": 7,
     "metadata": {},
     "output_type": "execute_result"
    }
   ],
   "source": [
    "next(iter2)"
   ]
  },
  {
   "cell_type": "code",
   "execution_count": 8,
   "metadata": {},
   "outputs": [
    {
     "data": {
      "text/plain": [
       "(list, list_iterator, list_iterator)"
      ]
     },
     "execution_count": 8,
     "metadata": {},
     "output_type": "execute_result"
    }
   ],
   "source": [
    "type(mylist), type(iter1), type(iter2)"
   ]
  },
  {
   "cell_type": "code",
   "execution_count": 9,
   "metadata": {},
   "outputs": [
    {
     "ename": "TypeError",
     "evalue": "'list' object is not an iterator",
     "output_type": "error",
     "traceback": [
      "\u001b[0;31m---------------------------------------------------------------------------\u001b[0m",
      "\u001b[0;31mTypeError\u001b[0m                                 Traceback (most recent call last)",
      "\u001b[0;32m<ipython-input-9-aa4696dcd26e>\u001b[0m in \u001b[0;36m<module>\u001b[0;34m()\u001b[0m\n\u001b[1;32m      1\u001b[0m \u001b[0;31m# a list is iterable, but it is not its own iterator\u001b[0m\u001b[0;34m\u001b[0m\u001b[0;34m\u001b[0m\u001b[0m\n\u001b[0;32m----> 2\u001b[0;31m \u001b[0mnext\u001b[0m\u001b[0;34m(\u001b[0m\u001b[0mmylist\u001b[0m\u001b[0;34m)\u001b[0m\u001b[0;34m\u001b[0m\u001b[0m\n\u001b[0m",
      "\u001b[0;31mTypeError\u001b[0m: 'list' object is not an iterator"
     ]
    }
   ],
   "source": [
    "# a list is iterable, but it is not its own iterator\n",
    "next(mylist)"
   ]
  },
  {
   "cell_type": "code",
   "execution_count": 10,
   "metadata": {},
   "outputs": [
    {
     "data": {
      "text/plain": [
       "False"
      ]
     },
     "execution_count": 10,
     "metadata": {},
     "output_type": "execute_result"
    }
   ],
   "source": [
    "iter(mylist) is mylist"
   ]
  },
  {
   "cell_type": "code",
   "execution_count": null,
   "metadata": {},
   "outputs": [],
   "source": [
    "more = True\n",
    "itermore = iter(mylist)\n",
    "while more:\n",
    "    try:\n",
    "        i = next(itermore)\n",
    "    except StopIteration as e:\n",
    "        more = False"
   ]
  },
  {
   "cell_type": "code",
   "execution_count": 12,
   "metadata": {},
   "outputs": [
    {
     "data": {
      "text/plain": [
       "(<list_iterator at 0x105f2a2e8>, 4387766472)"
      ]
     },
     "execution_count": 12,
     "metadata": {},
     "output_type": "execute_result"
    }
   ],
   "source": [
    "mylistiter = iter(mylist)\n",
    "mylistiter, id(mylist)"
   ]
  },
  {
   "cell_type": "code",
   "execution_count": 16,
   "metadata": {},
   "outputs": [
    {
     "data": {
      "text/plain": [
       "True"
      ]
     },
     "execution_count": 16,
     "metadata": {},
     "output_type": "execute_result"
    }
   ],
   "source": [
    "iter(mylistiter) is mylistiter"
   ]
  },
  {
   "cell_type": "markdown",
   "metadata": {
    "slideshow": {
     "slide_type": "subslide"
    }
   },
   "source": [
    "## When we write...\n",
    "`mylist = [1, 2, 3]\n",
    "for x in mylist:\n",
    "    ...`\n",
    "## ...this is what happens"
   ]
  },
  {
   "cell_type": "markdown",
   "metadata": {},
   "source": [
    "![alt-text](iterable.png \"iterable\")"
   ]
  },
  {
   "cell_type": "markdown",
   "metadata": {},
   "source": [
    "## We can see this by disassembling the Python code..."
   ]
  },
  {
   "cell_type": "code",
   "execution_count": 13,
   "metadata": {},
   "outputs": [
    {
     "name": "stdout",
     "output_type": "stream",
     "text": [
      "  1           0 SETUP_LOOP              20 (to 22)\n",
      "              2 LOAD_NAME                0 (mylist)\n",
      "              4 GET_ITER\n",
      "        >>    6 FOR_ITER                12 (to 20)\n",
      "              8 STORE_NAME               1 (item)\n",
      "             10 LOAD_NAME                2 (total)\n",
      "             12 LOAD_NAME                1 (item)\n",
      "             14 INPLACE_ADD\n",
      "             16 STORE_NAME               2 (total)\n",
      "             18 JUMP_ABSOLUTE            6\n",
      "        >>   20 POP_BLOCK\n",
      "        >>   22 LOAD_CONST               0 (None)\n",
      "             24 RETURN_VALUE\n"
     ]
    }
   ],
   "source": [
    "import dis\n",
    "mylist = [1, 2, 3]\n",
    "total = 0\n",
    "dis.dis('for item in mylist: total += item')"
   ]
  },
  {
   "cell_type": "markdown",
   "metadata": {
    "slideshow": {
     "slide_type": "subslide"
    }
   },
   "source": [
    "## So what is an iterator?\n",
    "* a stateful object that produces the next value when you call __`next()`__ on it\n",
    "* any object that has a __\\_\\_`next`\\_\\_()__ method is therefore an iterator\n",
    "* how it produces a value is irrelevant\n",
    "* in other words, an iterator is a value factory\n",
    " * each time you ask it for \"the next\" value, it knows how to compute it because it holds internal state"
   ]
  },
  {
   "cell_type": "code",
   "execution_count": 14,
   "metadata": {},
   "outputs": [
    {
     "name": "stdout",
     "output_type": "stream",
     "text": [
      "13 46 -3 Go! Stop!\n"
     ]
    }
   ],
   "source": [
    "# let's see how an iterator works...\n",
    "mylist = [13, 46, -3, 'Go!']\n",
    "myiter = iter(mylist) # get the list iterator\n",
    "\n",
    "try:\n",
    "    while True:\n",
    "        val = next(myiter)\n",
    "        print(val, end=' ')\n",
    "except StopIteration:\n",
    "    print('Stop!')"
   ]
  },
  {
   "cell_type": "markdown",
   "metadata": {
    "slideshow": {
     "slide_type": "subslide"
    }
   },
   "source": [
    "## Let's build our own iterator!"
   ]
  },
  {
   "cell_type": "code",
   "execution_count": 2,
   "metadata": {},
   "outputs": [
    {
     "name": "stdout",
     "output_type": "stream",
     "text": [
      "1 1 before the for loop\n",
      "2 3 5 8 13 21 34 55 89 144 233 377 610 987 "
     ]
    }
   ],
   "source": [
    "class Fibonacci(object):\n",
    "    def __init__(self):\n",
    "        self.prev = 0\n",
    "        self.curr = 1\n",
    "\n",
    "    def __iter__(self):\n",
    "        return self\n",
    "\n",
    "    def __next__(self):\n",
    "        \"\"\" \n",
    "        each call to next() does two important things:\n",
    "\n",
    "        1. modify its state for the subsequent next() call\n",
    "        2. produces a result for the current call\n",
    "        \"\"\"\n",
    "        value = self.curr\n",
    "        self.curr += self.prev\n",
    "        self.prev = value\n",
    "        if value > 1000:\n",
    "            raise StopIteration\n",
    "        return value\n",
    "\n",
    "# Note that this class is both an iterable due to __iter__()\n",
    "# method and its own iterator, due to __next__() method!\n",
    "\n",
    "f = Fibonacci()\n",
    "print(next(f), next(f), 'before the for loop')\n",
    "\n",
    "for num in f:\n",
    "   print(num, end=' ')"
   ]
  },
  {
   "cell_type": "markdown",
   "metadata": {},
   "source": [
    "## Lab: Iterators\n",
    "\n",
    "Write your own iterator class which takes an iterable and each time it's invoked, it returns a *random* element. The iterator should stop (i.e., __`raise`__ the __`StopIteration`__ exception) when it has returned all elements of the iterable.\n",
    "\n",
    "Example: __`MyRandomIterator([1, 2, 3])`__ might return\n",
    "\n",
    "`\n",
    "2\n",
    "3\n",
    "1\n",
    "...then raise StopIteration`"
   ]
  },
  {
   "cell_type": "code",
   "execution_count": 18,
   "metadata": {},
   "outputs": [],
   "source": [
    "'''\n",
    "Note that because we use indexing ([]) below, this iterator\n",
    "only works for iterables which support indexing.\n",
    "'''\n",
    "class MyRandomIterator():\n",
    "    def __init__(self, iterable):\n",
    "        self.indicesReturnedSoFar = set()\n",
    "        self.iterable = iterable\n",
    "    \n",
    "    def __iter__(self):\n",
    "        return self\n",
    "    \n",
    "    def __next__(self):\n",
    "        import random\n",
    "        if len(self.indicesReturnedSoFar) == len(self.iterable):\n",
    "            raise StopIteration\n",
    "        \n",
    "        rand = random.randint(0, len(self.iterable) - 1)\n",
    "        while rand in self.indicesReturnedSoFar:\n",
    "            rand = random.randint(0, len(self.iterable) - 1)\n",
    "        # better would be to remove the item from our copy of the\n",
    "        \n",
    "        self.indicesReturnedSoFar.add(rand)\n",
    "        return self.iterable[rand]"
   ]
  },
  {
   "cell_type": "code",
   "execution_count": 21,
   "metadata": {},
   "outputs": [
    {
     "name": "stdout",
     "output_type": "stream",
     "text": [
      "2\n",
      "4\n",
      "3\n",
      "1\n"
     ]
    }
   ],
   "source": [
    "mri = MyRandomIterator([1, 2, 3, 4])\n",
    "for item in mri:\n",
    "    print(item)"
   ]
  },
  {
   "cell_type": "code",
   "execution_count": 3,
   "metadata": {},
   "outputs": [
    {
     "name": "stdout",
     "output_type": "stream",
     "text": [
      "Card(rank=2, suit='clubs')\n",
      "Card(rank=3, suit='clubs')\n",
      "Card(rank=4, suit='clubs')\n",
      "Card(rank=5, suit='clubs')\n",
      "Card(rank=6, suit='clubs')\n",
      "Card(rank=7, suit='clubs')\n",
      "Card(rank=8, suit='clubs')\n",
      "Card(rank=9, suit='clubs')\n",
      "Card(rank=10, suit='clubs')\n",
      "Card(rank='J', suit='clubs')\n",
      "Card(rank='Q', suit='clubs')\n",
      "Card(rank='K', suit='clubs')\n",
      "Card(rank='A', suit='clubs')\n",
      "Card(rank=2, suit='diamonds')\n",
      "Card(rank=3, suit='diamonds')\n",
      "Card(rank=4, suit='diamonds')\n",
      "Card(rank=5, suit='diamonds')\n",
      "Card(rank=6, suit='diamonds')\n",
      "Card(rank=7, suit='diamonds')\n",
      "Card(rank=8, suit='diamonds')\n",
      "Card(rank=9, suit='diamonds')\n",
      "Card(rank=10, suit='diamonds')\n",
      "Card(rank='J', suit='diamonds')\n",
      "Card(rank='Q', suit='diamonds')\n",
      "Card(rank='K', suit='diamonds')\n",
      "Card(rank='A', suit='diamonds')\n",
      "Card(rank=2, suit='hearts')\n",
      "Card(rank=3, suit='hearts')\n",
      "Card(rank=4, suit='hearts')\n",
      "Card(rank=5, suit='hearts')\n",
      "Card(rank=6, suit='hearts')\n",
      "Card(rank=7, suit='hearts')\n",
      "Card(rank=8, suit='hearts')\n",
      "Card(rank=9, suit='hearts')\n",
      "Card(rank=10, suit='hearts')\n",
      "Card(rank='J', suit='hearts')\n",
      "Card(rank='Q', suit='hearts')\n",
      "Card(rank='K', suit='hearts')\n",
      "Card(rank='A', suit='hearts')\n",
      "Card(rank=2, suit='spades')\n",
      "Card(rank=3, suit='spades')\n",
      "Card(rank=4, suit='spades')\n",
      "Card(rank=5, suit='spades')\n",
      "Card(rank=6, suit='spades')\n",
      "Card(rank=7, suit='spades')\n",
      "Card(rank=8, suit='spades')\n",
      "Card(rank=9, suit='spades')\n",
      "Card(rank=10, suit='spades')\n",
      "Card(rank='J', suit='spades')\n",
      "Card(rank='Q', suit='spades')\n",
      "Card(rank='K', suit='spades')\n",
      "Card(rank='A', suit='spades')\n"
     ]
    }
   ],
   "source": [
    "from collections import namedtuple \n",
    "\n",
    "card = namedtuple('Card', ['rank', 'suit'])\n",
    "\n",
    "class DeckOfCards:\n",
    "    ranks = list(range(2, 11)) + list('JQKA')\n",
    "    suits = 'clubs diamonds hearts spades'.split()\n",
    "\n",
    "    def __init__(self):\n",
    "        self._cards = [card(rank, suit) for suit in self.suits for rank in self.ranks]\n",
    "    \n",
    "    def __str__(self):\n",
    "        time_to_print = [str(x.rank) + ' of ' + str(x.suit) for x in self._cards]\n",
    "        return str('\\n'.join(time_to_print))\n",
    "    \n",
    "    def __iter__(self):\n",
    "        return iter(self._cards)\n",
    "\n",
    "deck = DeckOfCards()\n",
    "for card in deck:\n",
    "   print(card)\n",
    "#print(deck)"
   ]
  },
  {
   "cell_type": "markdown",
   "metadata": {
    "slideshow": {
     "slide_type": "subslide"
    }
   },
   "source": [
    "## Generators\n",
    "* a generator allows you to write iterators much like the Fibonacci iterator above but in an elegant, succinct syntax that avoids writing classes with __\\_\\_`iter`\\_\\_`()`__ and __\\_\\_`next`\\_\\_`()`__ methods\n",
    "* every generator is an iterator (but not vice versa!) \n",
    "* a generator is a factory that lazily produces values\n",
    "* two types: generator _functions_ and generator _expressions_"
   ]
  },
  {
   "cell_type": "markdown",
   "metadata": {},
   "source": [
    "## The `yield` statement\n",
    "* before we jump into generators, let's take an in-depth look at what makes them possible...\n",
    "* when a normal Python function is invoked, execution starts at the first line and continues until a `return` statement is encountered or an exception is thrown (remember that \"falling off the end of the function\" is the same as if we had written __`return None`__)\n",
    "    * once a function returns, that's it–any work done by the function and stored in local variables is lost\n",
    "    * the next call to the function starts everything anew\n",
    "* there are times when we'd like to have a \"function\" which yields a series of values, i.e., it would have to save its state to that the next time it's invoked, it picks up where it left off\n",
    "    * we use the term \"yield\" here because in fact we are *not returning* to the caller i.e., we are not returning control of execution to the point where the function was called\n",
    "    * instead of __`return`__-ing, we are __`yield`__-ing, which implies that the transfer of control is temporary and voluntary–our function expects to regain control in the future\n",
    "* functions that use __`yield`__ instead of __`return`__ are generator functions (or *coroutines* in other languages)\n",
    "* think of __`yield`__ as __`return`__ + \"some magic\" for generator functions"
   ]
  },
  {
   "cell_type": "markdown",
   "metadata": {
    "slideshow": {
     "slide_type": "subslide"
    }
   },
   "source": [
    "### So what's the magic?\n",
    "* when __`yield`__ is called the state of the generator function is recorded\n",
    "    * the value of all variables are saved\n",
    "    * the next line of code to be executed is also saved\n",
    "    * i.e., the function simply resumes where it left off"
   ]
  },
  {
   "cell_type": "code",
   "execution_count": 4,
   "metadata": {
    "slideshow": {
     "slide_type": "subslide"
    }
   },
   "outputs": [
    {
     "name": "stdout",
     "output_type": "stream",
     "text": [
      "1\n",
      "boo!\n",
      "3\n"
     ]
    }
   ],
   "source": [
    "def simple_generator():\n",
    "    yield 1\n",
    "    yield 'boo!'\n",
    "    yield 3\n",
    "    \n",
    "for value in simple_generator():\n",
    "    print(value)"
   ]
  },
  {
   "cell_type": "markdown",
   "metadata": {
    "slideshow": {
     "slide_type": "subslide"
    }
   },
   "source": [
    "## Why do we need generator functions?\n",
    "* initially they gave programmers an easy way to write code that produced a series of values\n",
    "    * without generator functions, writing something like a random number generator required a class or module that both generated values and kept track of state between calls\n",
    "    * with generator functions, doing the above is greatly simplified\n",
    "* suppose we want a function which, given a list of numbers, returns a list of those numbers which are prime\n",
    "    * straighforward...\n",
    "    \n",
    "             def get_primes(nums):\n",
    "                 return ([num for num in nums if is_prime(num)])\n",
    "\n",
    "* now suppose we want to use the above function for very large lists of numbers...so large, in fact, that they won't fit in memory\n",
    "    * so now we want the function to take a starting value, and return all the primes that are greater than that value\n",
    "    * since functions only return once, they only have one \"chance\" to return a value (or list of values)\n",
    "    * what if our function could return the *next* value, rather than a list?\n",
    "        * we wouldn't need to create a list at all!"
   ]
  },
  {
   "cell_type": "markdown",
   "metadata": {
    "slideshow": {
     "slide_type": "subslide"
    }
   },
   "source": [
    "## What is a generator function?\n",
    "* defined like a normal function, but whenever it needs to generate a value, it does so with the __`yield`__ keyword rather than __`return`__\n",
    "    * if the body of a def contains __`yield`__, the function automatically becomes a generator function (even if it also has a __`return`__ statement)\n",
    "    * ...there's nothing else we need to do to create one\n",
    "* generator functions create *generator iterators* (or simply, a *generator*)\n",
    "    * a generator is a special type of iterator (meaning it has a __\\_\\_`next`\\_\\_`()`__ function)\n",
    "    * to get the next value from a generator, we use the same built-in function as for iterators: __`next()`__\n",
    "* let's return to the more basic notion of a generator function..."
   ]
  },
  {
   "cell_type": "markdown",
   "metadata": {},
   "source": [
    "### Now we can rewrite our `get_primes()` function as a generator...\n",
    "\n",
    "    def get_primes(num):\n",
    "        while True:\n",
    "            if is_prime(num):\n",
    "                yield num\n",
    "            num += 1\n",
    "            \n",
    "* note that if a generator function calls return (or simply hits the end of the function), then a __`StopIteration`__ exception is raised, signaling the generator is exhausted (just as an iterator does)"
   ]
  },
  {
   "cell_type": "code",
   "execution_count": 5,
   "metadata": {
    "scrolled": true,
    "slideshow": {
     "slide_type": "subslide"
    }
   },
   "outputs": [
    {
     "name": "stdout",
     "output_type": "stream",
     "text": [
      "1\n",
      "1\n",
      "before the for loop\n",
      "2 3 5 8 13 21 34 55 89 144 233 377 610 987 1597 2584 4181 6765 10946 17711 28657 46368 75025 121393 196418 317811 514229 832040 1346269 2178309 3524578 5702887 9227465 14930352 24157817 39088169 63245986 102334155 165580141 267914296 433494437 701408733 1134903170 1836311903 2971215073 4807526976 7778742049 12586269025 20365011074 32951280099 53316291173 86267571272 139583862445 225851433717 365435296162 591286729879 956722026041 1548008755920 2504730781961 4052739537881 6557470319842 10610209857723 17167680177565 27777890035288 44945570212853 72723460248141 117669030460994 "
     ]
    }
   ],
   "source": [
    "def fibonacci():\n",
    "    '''\n",
    "    defined as a normal function, but...\n",
    "    ...no return keyword\n",
    "    \n",
    "    The yield keyword returns a value, but the function retains its state\n",
    "    '''\n",
    "    prev, curr = 0, 1\n",
    "    while True:\n",
    "        yield curr\n",
    "        prev, curr = curr, prev + curr\n",
    "        \n",
    "f = fibonacci()\n",
    "print(next(f), next(f), 'before the for loop', sep='\\n')\n",
    "\n",
    "import random\n",
    "random.seed()\n",
    "\n",
    "for num in f:\n",
    "   print(num, end=' ')\n",
    "   if random.random() > 0.95:\n",
    "        break"
   ]
  },
  {
   "cell_type": "code",
   "execution_count": 34,
   "metadata": {},
   "outputs": [
    {
     "data": {
      "text/plain": [
       "<generator object fibonacci at 0x105f00af0>"
      ]
     },
     "execution_count": 34,
     "metadata": {},
     "output_type": "execute_result"
    }
   ],
   "source": [
    "fibonacci()"
   ]
  },
  {
   "cell_type": "markdown",
   "metadata": {
    "slideshow": {
     "slide_type": "subslide"
    }
   },
   "source": [
    "## PEP-342: sending values into generators\n",
    "* PEP-342 added support for passing values *into* generators using the `send()` function\n",
    "* let's go back to the prime number example but instead of simply printing every prime number greater than some number, we'll find the smallest prime number greater than successive powers of a number (i.e. for 10, we want the smallest prime greater than 10, then 100, then 1000, etc.)\n",
    "\n",
    "        def get_primes(num):\n",
    "            while True:\n",
    "                if is_prime(num):\n",
    "                    num = yield num \n",
    "                num += 1\n",
    "                \n",
    "* the `yield` line now says __\"yield num, and when a value is sent to me, set num to that value\"__\n",
    "* and we can print the next prime greater than 10, 100, 1000, as follows:\n",
    "\n",
    "        def print_successive_primes(iterations, base=10):\n",
    "            prime_generator = get_primes(base)\n",
    "            prime_generator.send(None)\n",
    "            for power in range(iterations):\n",
    "                print(prime_generator.send(base ** power))\n",
    "                \n",
    "* printing __`generator.send()`__ is possible because __`send`__ both sends a value to the generator and returns the value yielded by the generator\n",
    "* note that the first time we send a value into a generator, it must be __`None`__"
   ]
  },
  {
   "cell_type": "markdown",
   "metadata": {
    "slideshow": {
     "slide_type": "subslide"
    }
   },
   "source": [
    "## Now let's look at a generator _expression_\n",
    "* generator equivalent of a list comprehension"
   ]
  },
  {
   "cell_type": "code",
   "execution_count": 41,
   "metadata": {
    "slideshow": {
     "slide_type": "subslide"
    }
   },
   "outputs": [
    {
     "data": {
      "text/plain": [
       "[1, 4, 9, 16, 25, 36, 49, 64, 81, 100]"
      ]
     },
     "execution_count": 41,
     "metadata": {},
     "output_type": "execute_result"
    }
   ],
   "source": [
    "squares = [num * num for num in range(1, 11)] # list comprehension\n",
    "squares"
   ]
  },
  {
   "cell_type": "code",
   "execution_count": 42,
   "metadata": {},
   "outputs": [
    {
     "data": {
      "text/plain": [
       "{1, 4, 9, 16, 25, 36, 49, 64, 81, 100}"
      ]
     },
     "execution_count": 42,
     "metadata": {},
     "output_type": "execute_result"
    }
   ],
   "source": [
    "squares = {num * num for num in range(1, 11)} # set comprehension\n",
    "squares"
   ]
  },
  {
   "cell_type": "code",
   "execution_count": 58,
   "metadata": {},
   "outputs": [
    {
     "data": {
      "text/plain": [
       "{1: 1, 2: 4, 3: 9, 4: 16, 5: 25, 6: 36, 7: 49, 8: 64, 9: 81, 10: 100}"
      ]
     },
     "execution_count": 58,
     "metadata": {},
     "output_type": "execute_result"
    }
   ],
   "source": [
    "squares = {num: num * num for num in range(1, 11)} # dict comprehension\n",
    "squares"
   ]
  },
  {
   "cell_type": "code",
   "execution_count": 1,
   "metadata": {},
   "outputs": [
    {
     "data": {
      "text/plain": [
       "<generator object <genexpr> at 0x1052b6360>"
      ]
     },
     "execution_count": 1,
     "metadata": {},
     "output_type": "execute_result"
    }
   ],
   "source": [
    "squares = (num * num for num in range(1, 11)) # generator expression (NOT a 'tuple comprehension')\n",
    "squares"
   ]
  },
  {
   "cell_type": "code",
   "execution_count": 2,
   "metadata": {},
   "outputs": [
    {
     "data": {
      "text/plain": [
       "(1, 4)"
      ]
     },
     "execution_count": 2,
     "metadata": {},
     "output_type": "execute_result"
    }
   ],
   "source": [
    "next(squares), next(squares)"
   ]
  },
  {
   "cell_type": "code",
   "execution_count": 7,
   "metadata": {},
   "outputs": [
    {
     "data": {
      "text/plain": [
       "<range_iterator at 0x1056d17b0>"
      ]
     },
     "execution_count": 7,
     "metadata": {},
     "output_type": "execute_result"
    }
   ],
   "source": [
    "iter(range(1, 10))"
   ]
  },
  {
   "cell_type": "code",
   "execution_count": 3,
   "metadata": {},
   "outputs": [
    {
     "data": {
      "text/plain": [
       "[9, 16, 25, 36, 49, 64, 81, 100]"
      ]
     },
     "execution_count": 3,
     "metadata": {},
     "output_type": "execute_result"
    }
   ],
   "source": [
    "list(squares) # for thing in squares: print(thing)"
   ]
  },
  {
   "cell_type": "markdown",
   "metadata": {
    "slideshow": {
     "slide_type": "subslide"
    }
   },
   "source": [
    "## Lab: Generators\n",
    "* modify your random iterator to be a generator function"
   ]
  },
  {
   "cell_type": "code",
   "execution_count": 55,
   "metadata": {},
   "outputs": [
    {
     "name": "stdout",
     "output_type": "stream",
     "text": [
      "2\n",
      "1\n",
      "3\n",
      "4\n"
     ]
    }
   ],
   "source": [
    "def my_random_generator(iterable):\n",
    "    import random\n",
    "    indices_returned_so_far = set()\n",
    "    \n",
    "    while len(indices_returned_so_far) < len(iterable):\n",
    "        rand = random.randint(0, len(iterable) - 1)\n",
    "        while rand in indices_returned_so_far:\n",
    "            rand = random.randint(0, len(iterable) - 1)\n",
    "\n",
    "        indices_returned_so_far.add(rand)\n",
    "        yield iterable[rand]\n",
    "        \n",
    "for thing in my_random_generator([1, 2, 3, 4]):\n",
    "    print(thing)"
   ]
  },
  {
   "cell_type": "markdown",
   "metadata": {
    "slideshow": {
     "slide_type": "subslide"
    }
   },
   "source": [
    "## __`itertools`__\n",
    "* module of functions for efficient looping\n",
    "* all of its methods return iterators\n",
    "* some produce finite sequences\n",
    "* others produce infinite sequences"
   ]
  },
  {
   "cell_type": "code",
   "execution_count": 56,
   "metadata": {},
   "outputs": [
    {
     "name": "stdout",
     "output_type": "stream",
     "text": [
      "a => apple\n",
      "b => banana\n",
      "c => cherry\n",
      "d => None\n"
     ]
    }
   ],
   "source": [
    "from itertools import zip_longest\n",
    "list1 = ['a', 'b', 'c', 'd']\n",
    "list2 = ['apple', 'banana', 'cherry']\n",
    "\n",
    "for item1, item2 in zip_longest(list1, list2):\n",
    "    print(item1, '=>', item2)"
   ]
  },
  {
   "cell_type": "code",
   "execution_count": 8,
   "metadata": {},
   "outputs": [
    {
     "data": {
      "text/plain": [
       "(789, 790)"
      ]
     },
     "execution_count": 8,
     "metadata": {},
     "output_type": "execute_result"
    }
   ],
   "source": [
    "from itertools import count\n",
    "counter = count(start=789)\n",
    "next(counter), next(counter)"
   ]
  },
  {
   "cell_type": "code",
   "execution_count": 10,
   "metadata": {},
   "outputs": [
    {
     "name": "stdout",
     "output_type": "stream",
     "text": [
      "1\n",
      "1.25\n",
      "1.5\n",
      "1.75\n",
      "2.0\n",
      "2.25\n",
      "2.5\n",
      "2.75\n",
      "3.0\n",
      "3.25\n",
      "3.5\n",
      "3.75\n",
      "4.0\n",
      "4.25\n",
      "4.5\n",
      "4.75\n",
      "5.0\n",
      "5.25\n",
      "5.5\n",
      "5.75\n",
      "6.0\n",
      "6.25\n",
      "6.5\n",
      "6.75\n",
      "7.0\n",
      "7.25\n",
      "7.5\n",
      "7.75\n",
      "8.0\n"
     ]
    }
   ],
   "source": [
    "from itertools import count\n",
    "\n",
    "for num in count(1, 0.25):\n",
    "    print(num)\n",
    "    if num > 7.75:\n",
    "        break"
   ]
  },
  {
   "cell_type": "code",
   "execution_count": 8,
   "metadata": {},
   "outputs": [
    {
     "data": {
      "text/plain": [
       "('S', 'M', 'L', 'S', 'M')"
      ]
     },
     "execution_count": 8,
     "metadata": {},
     "output_type": "execute_result"
    }
   ],
   "source": [
    "from itertools import cycle\n",
    "sizes = ['S', 'M', 'L']\n",
    "sc = cycle(sizes)\n",
    "next(sc), next(sc), next(sc), next(sc), next(sc)"
   ]
  },
  {
   "cell_type": "code",
   "execution_count": 6,
   "metadata": {},
   "outputs": [
    {
     "data": {
      "text/plain": [
       "[365435296162, 591286729879, 956722026041, 1548008755920, 2504730781961]"
      ]
     },
     "execution_count": 6,
     "metadata": {},
     "output_type": "execute_result"
    }
   ],
   "source": [
    "from itertools import islice\n",
    "list(islice(fibonacci(), 56, 61))"
   ]
  },
  {
   "cell_type": "code",
   "execution_count": 64,
   "metadata": {},
   "outputs": [
    {
     "name": "stdout",
     "output_type": "stream",
     "text": [
      "1.25\n",
      "1.5\n",
      "1.75\n",
      "2.0\n"
     ]
    }
   ],
   "source": [
    "from itertools import count, islice\n",
    "\n",
    "for num in islice(count(1, 0.25), 1, 5):\n",
    "    print(num)"
   ]
  },
  {
   "cell_type": "code",
   "execution_count": 67,
   "metadata": {},
   "outputs": [
    {
     "name": "stdout",
     "output_type": "stream",
     "text": [
      "red white blue red white "
     ]
    }
   ],
   "source": [
    "# some produce a finite sequence from an infinite sequence\n",
    "from itertools import islice, cycle\n",
    "colors = cycle(['red', 'white', 'blue']) # infinite\n",
    "limited = islice(colors, 0, 5)\n",
    "\n",
    "for color in limited:\n",
    "    print(color, end= ' ')"
   ]
  },
  {
   "cell_type": "code",
   "execution_count": 68,
   "metadata": {},
   "outputs": [
    {
     "data": {
      "text/plain": [
       "[2, 3, 4, 5, 6, 7, 8, 9, 10, 'J', 'Q', 'K', 'A']"
      ]
     },
     "execution_count": 68,
     "metadata": {},
     "output_type": "execute_result"
    }
   ],
   "source": [
    "from itertools import chain\n",
    "rank = list(range(2, 11))\n",
    "picture = { 'J': 'Jack', 'Q': 'Queen', 'K': 'King', 'A': 'Ace' }\n",
    "\n",
    "for card in chain(rank, picture):\n",
    "    print(card, end=' ')\n",
    "    \n",
    "#list(chain(rank, picture))"
   ]
  },
  {
   "cell_type": "code",
   "execution_count": 20,
   "metadata": {},
   "outputs": [
    {
     "data": {
      "text/plain": [
       "[12, 20, 32, 44]"
      ]
     },
     "execution_count": 20,
     "metadata": {},
     "output_type": "execute_result"
    }
   ],
   "source": [
    "from itertools import filterfalse\n",
    "# filter out items for which predicate is False\n",
    "numbers = [7, 12, 20, 23, 32, 44]\n",
    "list(filterfalse(lambda x: x % 2, numbers))"
   ]
  },
  {
   "cell_type": "code",
   "execution_count": 68,
   "metadata": {},
   "outputs": [
    {
     "data": {
      "text/plain": [
       "['how', 'brown']"
      ]
     },
     "execution_count": 68,
     "metadata": {},
     "output_type": "execute_result"
    }
   ],
   "source": [
    "# filters elements, returning only those that have a corresponding\n",
    "# element that evaluates to True\n",
    "from itertools import compress\n",
    "words = ['how', 'now', 'brown', 'cow']\n",
    "counts = [13, '', 'x', None]\n",
    "list(compress(words, counts))"
   ]
  },
  {
   "cell_type": "code",
   "execution_count": 71,
   "metadata": {},
   "outputs": [
    {
     "data": {
      "text/plain": [
       "[3, 8, 18, 39]"
      ]
     },
     "execution_count": 71,
     "metadata": {},
     "output_type": "execute_result"
    }
   ],
   "source": [
    "# accumulate sums, or other binary functions\n",
    "from itertools import accumulate\n",
    "list(accumulate([3, 5, 10, 21]))\n",
    "#help(accumulate)"
   ]
  },
  {
   "cell_type": "code",
   "execution_count": 3,
   "metadata": {},
   "outputs": [
    {
     "data": {
      "text/plain": [
       "[1, 2, 6, 24, 120, 720, 5040, 40320, 362880]"
      ]
     },
     "execution_count": 3,
     "metadata": {},
     "output_type": "execute_result"
    }
   ],
   "source": [
    "list(accumulate(range(1, 10), lambda x, y: x * y))"
   ]
  },
  {
   "cell_type": "code",
   "execution_count": 5,
   "metadata": {},
   "outputs": [
    {
     "data": {
      "text/plain": [
       "[1000, 800.0, 590.0, 369.5, 137.97500000000002]"
      ]
     },
     "execution_count": 5,
     "metadata": {},
     "output_type": "execute_result"
    }
   ],
   "source": [
    "# Amortize a 5% loan of 1000 with 4 annual payments of 250\n",
    "cashflows = [1000, 250, 250, 250, 250]\n",
    "list(accumulate(cashflows, lambda bal, pmt: bal * 1.05 - pmt))"
   ]
  }
 ],
 "metadata": {
  "celltoolbar": "Slideshow",
  "kernelspec": {
   "display_name": "Python 3",
   "language": "python",
   "name": "python3"
  },
  "language_info": {
   "codemirror_mode": {
    "name": "ipython",
    "version": 3
   },
   "file_extension": ".py",
   "mimetype": "text/x-python",
   "name": "python",
   "nbconvert_exporter": "python",
   "pygments_lexer": "ipython3",
   "version": "3.6.1"
  }
 },
 "nbformat": 4,
 "nbformat_minor": 1
}
