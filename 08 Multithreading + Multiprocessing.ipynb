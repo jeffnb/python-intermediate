{
 "cells": [
  {
   "cell_type": "markdown",
   "metadata": {
    "scrolled": true,
    "slideshow": {
     "slide_type": "slide"
    }
   },
   "source": [
    "# Multithreading and Multiprocessing"
   ]
  },
  {
   "cell_type": "markdown",
   "metadata": {
    "slideshow": {
     "slide_type": "subslide"
    }
   },
   "source": [
    "### Threading\n",
    "* typically, concurrency is created so that we can do some task while I/O is happening (e.g., a server can start processing a new request while waiting for data from a previous request to arrive)\n",
    "* we can create objects that appear to be running independently, but simultaneously\n",
    "* the job of threading is to enable an application to be responsive\n",
    "* CPython, the default implementation of Python, has a Global Interpreter Lock (GIL), which prevents your application from doing two things at once, but rather, the CPU time is being rationed across your thread"
   ]
  },
  {
   "cell_type": "markdown",
   "metadata": {
    "slideshow": {
     "slide_type": "subslide"
    }
   },
   "source": [
    "### Simple threading example"
   ]
  },
  {
   "cell_type": "code",
   "execution_count": 1,
   "metadata": {
    "slideshow": {
     "slide_type": "subslide"
    }
   },
   "outputs": [
    {
     "name": "stdout",
     "output_type": "stream",
     "text": [
      "Are you ready? When you hit return the thread will start.\n",
      "Enter some text: Hello\n",
      "calculated squares up to 2567130 * 2567130 = 6,590,151,302,641\n",
      "while you typed \"Hello\"\n"
     ]
    }
   ],
   "source": [
    "from threading import Thread\n",
    "\n",
    "class InputReader(Thread):\n",
    "    \"\"\"Thread example, extends Thread class\"\"\"\n",
    "\n",
    "    def run(self):\n",
    "        \"\"\"\n",
    "        Whatever is in the run method (or called from\n",
    "        it) is executed in a separate thread\n",
    "        \"\"\"\n",
    "        self.line_of_text = input('Enter some text: ')\n",
    "\n",
    "input('Are you ready? When you hit return the thread will start.')\n",
    "thread = InputReader() # create thread object\n",
    "thread.start() # cf. thread.run() for no concurrency\n",
    "\n",
    "count, result = 1, 1\n",
    "\n",
    "while thread.is_alive():\n",
    "    result = count * count\n",
    "    count += 1\n",
    "\n",
    "print('calculated squares up to {0} * {0} = {1:,}'.format(count, result))\n",
    "print('while you typed \"{}\"'.format(thread.line_of_text))"
   ]
  },
  {
   "cell_type": "code",
   "execution_count": 1,
   "metadata": {
    "slideshow": {
     "slide_type": "subslide"
    }
   },
   "outputs": [
    {
     "name": "stdout",
     "output_type": "stream",
     "text": [
      "it is 48°F in Boulder\n",
      "it is 73°F in Atlanta\n",
      "it is 77°F in San Francisco\n",
      "it is 56°F in Reno\n",
      "it is 87°F in Honolulu\n",
      "it is 51°F in Zurich\n",
      "it is 78°F in Dubai\n",
      "it is 78°F in Dublin\n",
      "it is 46°F in Stuttgart\n",
      "it is 71°F in Rome\n",
      "Got 10 temps in 0.3241448402404785 seconds\n"
     ]
    }
   ],
   "source": [
    "# Does not work inside Jupyter\n",
    "from threading import Thread\n",
    "import json\n",
    "from urllib.request import urlopen\n",
    "import time\n",
    "\n",
    "cities = ['Boulder', 'Atlanta', 'San Francisco',\n",
    "          'Reno', 'Honolulu', 'Zurich', 'Dubai',\n",
    "          'Dublin','Stuttgart', 'Rome']\n",
    "\n",
    "class TempGetter(Thread):\n",
    "    def __init__(self, city):\n",
    "        \"\"\"Initialize our thread\n",
    "\n",
    "In the previous example, our class which extended Thread did not\n",
    "need an __init__ method, because there was no per-thread information\n",
    "to store. Which means that the __init__ method from the superclass\n",
    "(Thread) was called automatically. Here, because we need to store\n",
    "per-thread information (the city), we have to explicitly call the\n",
    "__init__ method of Thread.\n",
    "        \"\"\"\n",
    "        super().__init__()\n",
    "        self.city = city\n",
    "\n",
    "    def run(self):\n",
    "        url_template = (\n",
    "            'http://api.openweathermap.org/data/2.5/' \n",
    "            'weather?q={}&units=imperial'\n",
    "                        '&&APPID=10d4440bbaa8581bb8da9bd1fbea5617')\n",
    "        response = urlopen(url_template.format(self.city))\n",
    "        data = json.loads(response.read().decode())\n",
    "        self.temperature = data['main']['temp']\n",
    "        \n",
    "threads = [TempGetter(c) for c in cities] # creates 10 threads\n",
    "start = time.time()\n",
    "\n",
    "# start all 10 threads\n",
    "for thread in threads:\n",
    "    thread.start() # not run()\n",
    "\n",
    "# wait for all 10 threads to complete\n",
    "for thread in threads:\n",
    "    thread.join()\n",
    "\n",
    "for thread in threads:\n",
    "    print(\"it is {0.temperature:.0f}°F in {0.city}\"\n",
    "          .format(thread))\n",
    "print(\"Got {} temps in {} seconds\"\n",
    "      .format(len(threads), time.time() - start))"
   ]
  },
  {
   "cell_type": "code",
   "execution_count": 2,
   "metadata": {
    "slideshow": {
     "slide_type": "-"
    }
   },
   "outputs": [
    {
     "name": "stderr",
     "output_type": "stream",
     "text": [
      "python3: can't open file 'getweather.py': [Errno 2] No such file or directory\n"
     ]
    }
   ],
   "source": [
    "%%bash\n",
    "python3 getweather.py"
   ]
  },
  {
   "cell_type": "markdown",
   "metadata": {
    "slideshow": {
     "slide_type": "subslide"
    }
   },
   "source": [
    "## Threading (cont'd)\n",
    "* the main problem with threads is also their primary advantage–shared memory\n",
    " * all threads have access to all the memory\n",
    " * what if two threads access the same data?\n",
    "* synchronization is the solution, but it's tricky\n",
    " * bugs due to incorrect synchronization can be very difficult to find due to ordering issues\n",
    "* one solution is to force communication between threads to occur using a data structure that has built in locking, such as queue.Queue\n",
    "* disadvantages could be outweighed by the fact that shared memory is FAST, except for the GIL"
   ]
  },
  {
   "cell_type": "markdown",
   "metadata": {
    "slideshow": {
     "slide_type": "subslide"
    }
   },
   "source": [
    "## Lab: threads\n",
    "* create a program which uses threads to simulate a database server\n",
    "* your \"database server\" should simply be a thread which sleeps for a random interval (check out `time.sleep()` and `random.randint()` if you're not familiar with them)\n",
    "* your main thread should get input from the user and respond to it (perhaps reversing the input given by the user) while the database thread is busy"
   ]
  },
  {
   "cell_type": "markdown",
   "metadata": {
    "slideshow": {
     "slide_type": "subslide"
    }
   },
   "source": [
    "## Lab Solution: threads"
   ]
  },
  {
   "cell_type": "code",
   "execution_count": 32,
   "metadata": {
    "slideshow": {
     "slide_type": "subslide"
    }
   },
   "outputs": [
    {
     "name": "stdout",
     "output_type": "stream",
     "text": [
      "Processing database request for 12 seconds\n",
      "Finished processing database request\n",
      "Processing database request for 13 seconds\n",
      "Enter some text: hello\n",
      "olleh deretne uoY \n",
      "Finished processing database request\n",
      "Processing database request for 10 seconds\n",
      "Finished processing database request\n",
      "Processing database request for 14 seconds\n",
      "Enter some text: ok\n",
      "ko deretne uoY \n",
      "Finished processing database request\n",
      "Processing database request for 15 seconds\n",
      "Enter some text: qqq\n",
      "Finished processing database request\n",
      "mp has requested the database server stop running.\n"
     ]
    }
   ],
   "source": []
  },
  {
   "cell_type": "markdown",
   "metadata": {
    "slideshow": {
     "slide_type": "subslide"
    }
   },
   "source": [
    "# Multiprocessing\n",
    "* the Python multiprocessing library is designed for cases where CPU-bound jobs needs to happen in parallel and multiple cores are available\n",
    "* advantages\n",
    " * separate memory space for each process\n",
    " * code is usually straightforward compared to threads\n",
    " * avoids GIL limitation\n",
    " * eliminates synchronization (assuming no shared memory)"
   ]
  },
  {
   "cell_type": "markdown",
   "metadata": {
    "slideshow": {
     "slide_type": "subslide"
    }
   },
   "source": [
    "## A Simple Multiprocessing Example"
   ]
  },
  {
   "cell_type": "code",
   "execution_count": 3,
   "metadata": {
    "slideshow": {
     "slide_type": "subslide"
    }
   },
   "outputs": [
    {
     "name": "stdout",
     "output_type": "stream",
     "text": [
      "Running...\n",
      "64016\n",
      "__main__\n",
      "64017\n",
      "__main__\n",
      "64018\n",
      "__main__\n",
      "64019\n",
      "__main__\n",
      "64020\n",
      "__main__\n",
      "64021\n",
      "64023\n",
      "__main__\n",
      "64022\n",
      "__main__\n",
      "__main__\n",
      "work took 2.6905572414398193 seconds\n"
     ]
    }
   ],
   "source": [
    "from multiprocessing import Process, cpu_count\n",
    "import time\n",
    "import os\n",
    "\n",
    "class MuchCPU(Process):\n",
    "    def run(self):\n",
    "        print(os.getpid())\n",
    "        print(__name__)\n",
    "        for i in range(20_000_000):\n",
    "            result = i * i\n",
    "\n",
    "if __name__ == '__main__':\n",
    "    print('Running...')\n",
    "    procs = [MuchCPU() for f in range(cpu_count())]\n",
    "    t = time.time()\n",
    "    for p in procs:\n",
    "        p.start()\n",
    "    \n",
    "    for p in procs:\n",
    "        p.join()\n",
    "    \n",
    "    print('work took {} seconds'.format(time.time() - t))"
   ]
  },
  {
   "cell_type": "markdown",
   "metadata": {
    "slideshow": {
     "slide_type": "subslide"
    }
   },
   "source": [
    "## Multiprocessing (cont'd)\n",
    "* no reason for more processes than there are processors\n",
    " * only `cpu_count()` procs can run simultaneously\n",
    " * each proc consumes resources with a full copy of Python interpreter\n",
    " * interproc communication is expensive\n",
    " * creating procs takes a nonzero amount of time\n",
    "* so we create at most `cpu_count()` processes when the program starts and have them execute tasks as needed\n",
    "* easy to implement a basic series of communicating processes to do this, but it can be tricky to debug, test, and get correct–we don't have to do all this work because the Python developers have already done it for us–multiprocessing pools\n"
   ]
  },
  {
   "cell_type": "markdown",
   "metadata": {
    "slideshow": {
     "slide_type": "subslide"
    }
   },
   "source": [
    "## Multiprocessing Pools\n",
    "* pools abstract away the overhead of figuring out what code is running in main process and what code is running in subprocess\n",
    "* abstraction restricts the number of places that code in different processes interact with each other, making it easier to keep track of\n",
    "* pools also hide the passing of data between processes\n",
    " * using a pool looks much like a function call–you pass data into a function, it's executed in another process or processes, and when the work is complete, a value is returned\n",
    " * under the hood, a lot of work is being done to support this–objects in one process are being pickled (serialized) and passed into a pipe, then another process retrieves data from the pipe and unpickles it. Work is done in the subprocess and a result is produced. The result is pickled and passed into a pipe. Eventually, the original process unpickles it and returns it."
   ]
  },
  {
   "cell_type": "markdown",
   "metadata": {
    "slideshow": {
     "slide_type": "subslide"
    }
   },
   "source": [
    "## Multiprocessing Pool Example"
   ]
  },
  {
   "cell_type": "code",
   "execution_count": 27,
   "metadata": {
    "slideshow": {
     "slide_type": "subslide"
    }
   },
   "outputs": [
    {
     "name": "stdout",
     "output_type": "stream",
     "text": [
      "prime_factor( 14607445 ) 52771\n",
      "prime_factor( 42534327 ) 52772\n",
      "prime_factor( 8109461 ) 52770\n",
      "prime_factor( 4985981 ) 52769\n",
      "prime_factor( 7 ) 52769\n",
      "prime_factor( 3 ) 52772\n",
      "prime_factor( 5 ) 52771\n",
      "prime_factor( 712283 ) 52769\n",
      "prime_factor( 11 ) 52769\n",
      "prime_factor( 2921489 ) 52771\n",
      "prime_factor( 64753 ) 52769\n",
      "prime_factor( 14178109 ) 52772\n",
      "prime_factor( 29 ) 52771\n",
      "prime_factor( 11 ) 52772\n",
      "prime_factor( 13 ) 52769\n",
      "prime_factor( 100741 ) 52771\n",
      "prime_factor( 4981 ) 52769\n",
      "prime_factor( 1288919 ) 52772\n",
      "prime_factor( 17 ) 52769\n",
      "prime_factor( 293 ) 52769\n",
      "prime_factor( 43667129 ) 52769\n",
      "prime_factor( 27853949 ) 52771\n",
      "prime_factor( 11 ) 52769\n",
      "prime_factor( 3969739 ) 52769\n",
      "prime_factor( 29 ) 52771\n",
      "prime_factor( 557 ) 52769\n",
      "prime_factor( 960481 ) 52771\n",
      "prime_factor( 7127 ) 52769\n",
      "prime_factor( 769 ) 52771\n",
      "prime_factor( 43960346 ) 52769\n",
      "prime_factor( 2 ) 52769\n",
      "prime_factor( 1249 ) 52771\n",
      "prime_factor( 21980173 ) 52769\n",
      "prime_factor( 29 ) 52769\n",
      "prime_factor( 46029309 ) 52771\n",
      "prime_factor( 3 ) 52771\n",
      "prime_factor( 757937 ) 52769\n",
      "prime_factor( 15343103 ) 52771\n",
      "prime_factor( 47 ) 52771\n",
      "prime_factor( 326449 ) 52771\n",
      "prime_factor( 43930195 ) 52771\n",
      "prime_factor( 5 ) 52771\n",
      "prime_factor( 8786039 ) 52771\n",
      "prime_factor( 47 ) 52771\n",
      "prime_factor( 186937 ) 52771\n",
      "prime_factor( 131 ) 52771\n",
      "prime_factor( 1427 ) 52771\n",
      "prime_factor( 15587824 ) 52771\n",
      "prime_factor( 2 ) 52771\n",
      "prime_factor( 7793912 ) 52771\n",
      "prime_factor( 2 ) 52771\n",
      "prime_factor( 3896956 ) 52771\n",
      "prime_factor( 2 ) 52771\n",
      "prime_factor( 1948478 ) 52771\n",
      "prime_factor( 2 ) 52771\n",
      "prime_factor( 974239 ) 52771\n",
      "prime_factor( 7 ) 52771\n",
      "prime_factor( 139177 ) 52771\n",
      "prime_factor( 702415 ) 52769\n",
      "prime_factor( 5 ) 52769\n",
      "prime_factor( 140483 ) 52769\n",
      "prime_factor( 7 ) 52769\n",
      "prime_factor( 20069 ) 52769\n",
      "prime_factor( 7 ) 52769\n",
      "prime_factor( 2867 ) 52769\n",
      "prime_factor( 47 ) 52769\n",
      "prime_factor( 61 ) 52769\n",
      "prime_factor( 35368927 ) 52769\n",
      "prime_factor( 11 ) 52769\n",
      "prime_factor( 3215357 ) 52769\n",
      "prime_factor( 32357130 ) 52771\n",
      "prime_factor( 2 ) 52771\n",
      "prime_factor( 269 ) 52769\n",
      "prime_factor( 16178565 ) 52771\n",
      "prime_factor( 3 ) 52771\n",
      "prime_factor( 11953 ) 52769\n",
      "prime_factor( 5392855 ) 52771\n",
      "prime_factor( 27566910 ) 52769\n",
      "prime_factor( 5 ) 52771\n",
      "prime_factor( 2 ) 52769\n",
      "prime_factor( 1078571 ) 52771\n",
      "prime_factor( 13 ) 52771\n",
      "prime_factor( 13783455 ) 52769\n",
      "prime_factor( 3 ) 52769\n",
      "prime_factor( 82967 ) 52771\n",
      "prime_factor( 4594485 ) 52769\n",
      "prime_factor( 163 ) 52771\n",
      "prime_factor( 3 ) 52769\n",
      "prime_factor( 509 ) 52771\n",
      "prime_factor( 1531495 ) 52769\n",
      "prime_factor( 16333235 ) 52771\n",
      "prime_factor( 5 ) 52769\n",
      "prime_factor( 5 ) 52771\n",
      "prime_factor( 306299 ) 52769\n",
      "prime_factor( 3266647 ) 52771\n",
      "prime_factor( 7 ) 52769\n",
      "prime_factor( 43757 ) 52769\n",
      "prime_factor( 7 ) 52769\n",
      "prime_factor( 29 ) 52771\n",
      "prime_factor( 6251 ) 52769\n",
      "prime_factor( 112643 ) 52771\n",
      "prime_factor( 7 ) 52769\n",
      "prime_factor( 893 ) 52769\n",
      "prime_factor( 18127036 ) 52771\n",
      "prime_factor( 19 ) 52769\n",
      "prime_factor( 2 ) 52771\n",
      "prime_factor( 47 ) 52769\n",
      "prime_factor( 9063518 ) 52771\n",
      "prime_factor( 32617890 ) 52769\n",
      "prime_factor( 22442894 ) 52772\n",
      "prime_factor( 2 ) 52771\n",
      "prime_factor( 4531759 ) 52771\n",
      "prime_factor( 2 ) 52772\n",
      "prime_factor( 23 ) 52771\n",
      "prime_factor( 2 ) 52769\n",
      "prime_factor( 11221447 ) 52772\n",
      "prime_factor( 16308945 ) 52769\n",
      "prime_factor( 23 ) 52772\n",
      "prime_factor( 197033 ) 52771\n",
      "prime_factor( 487889 ) 52772\n",
      "prime_factor( 3 ) 52769\n",
      "prime_factor( 5436315 ) 52769\n",
      "prime_factor( 3 ) 52769\n",
      "prime_factor( 1812105 ) 52769\n",
      "prime_factor( 3 ) 52769\n",
      "prime_factor( 604035 ) 52769\n",
      "prime_factor( 3 ) 52769\n",
      "prime_factor( 201345 ) 52769\n",
      "prime_factor( 3 ) 52769\n",
      "prime_factor( 67115 ) 52769\n",
      "prime_factor( 5 ) 52769\n",
      "prime_factor( 13423 ) 52769\n",
      "prime_factor( 31 ) 52769\n",
      "prime_factor( 433 ) 52769\n",
      "prime_factor( 28264330 ) 52769\n",
      "prime_factor( 2 ) 52769\n",
      "prime_factor( 14132165 ) 52769\n",
      "prime_factor( 5 ) 52769\n",
      "prime_factor( 2826433 ) 52769\n",
      "prime_factor( 43 ) 52769\n",
      "prime_factor( 65731 ) 52769\n",
      "prime_factor( 42949278 ) 52770\n",
      "prime_factor( 2 ) 52770\n",
      "prime_factor( 21474639 ) 52770\n",
      "prime_factor( 3 ) 52770\n",
      "prime_factor( 7158213 ) 52770\n",
      "prime_factor( 3 ) 52770\n",
      "prime_factor( 2386071 ) 52770\n",
      "prime_factor( 3 ) 52770\n",
      "prime_factor( 795357 ) 52770\n",
      "prime_factor( 3 ) 52770\n",
      "prime_factor( 265119 ) 52770\n",
      "prime_factor( 3 ) 52770\n",
      "prime_factor( 88373 ) 52770\n",
      "prime_factor( 67 ) 52770\n",
      "prime_factor( 1319 ) 52770\n",
      "The factors of 4985981 are [7, 11, 13, 17, 293]\n",
      "The factors of 43667129 are [11, 557, 7127]\n",
      "The factors of 8109461 are [8109461]\n",
      "The factors of 42949278 are [2, 3, 3, 3, 3, 3, 67, 1319]\n",
      "The factors of 14607445 are [5, 29, 100741]\n",
      "The factors of 27853949 are [29, 769, 1249]\n",
      "The factors of 42534327 are [3, 11, 1288919]\n",
      "The factors of 22442894 are [2, 23, 487889]\n",
      "The factors of 43960346 are [2, 29, 757937]\n",
      "The factors of 702415 are [5, 7, 7, 47, 61]\n",
      "The factors of 46029309 are [3, 47, 326449]\n",
      "The factors of 43930195 are [5, 47, 131, 1427]\n",
      "The factors of 15587824 are [2, 2, 2, 2, 7, 139177]\n",
      "The factors of 32357130 are [2, 3, 5, 13, 163, 509]\n",
      "The factors of 35368927 are [11, 269, 11953]\n",
      "The factors of 27566910 are [2, 3, 3, 5, 7, 7, 7, 19, 47]\n",
      "The factors of 16333235 are [5, 29, 112643]\n",
      "The factors of 18127036 are [2, 2, 23, 197033]\n",
      "The factors of 32617890 are [2, 3, 3, 3, 3, 3, 5, 31, 433]\n",
      "The factors of 28264330 are [2, 5, 43, 65731]\n"
     ]
    }
   ],
   "source": [
    "import random\n",
    "import math\n",
    "import os\n",
    "from multiprocessing.pool import Pool\n",
    "\n",
    "def prime_factor(value):\n",
    "    factors = []\n",
    "    print('prime_factor(', value, ')', os.getpid())\n",
    "    for divisor in range(2, value-1):\n",
    "        quotient, remainder = divmod(value, divisor)\n",
    "        if not remainder:\n",
    "            factors.extend(prime_factor(divisor))\n",
    "            factors.extend(prime_factor(quotient))\n",
    "            break\n",
    "    else:\n",
    "        factors = [value]\n",
    "    return factors\n",
    "\n",
    "if __name__ == '__main__':\n",
    "    pool = Pool()\n",
    "\n",
    "    to_factor = [\n",
    "        random.randint(100_000, 50_000_000) for i in range(20)\n",
    "    ]\n",
    "    results = pool.map(prime_factor, to_factor)\n",
    "    for value, factors in zip(to_factor, results):\n",
    "        print(\"The factors of {} are {}\".format(value, factors))"
   ]
  },
  {
   "cell_type": "markdown",
   "metadata": {
    "slideshow": {
     "slide_type": "subslide"
    }
   },
   "source": [
    "## Lab: Multiprocessing Pool\n",
    "* write a program to compute 1!…48! using a multiprocessing pool\n",
    "* won't be much of a parallelism example, but it's easy to code\n",
    "* use previous example as a template"
   ]
  },
  {
   "cell_type": "code",
   "execution_count": 42,
   "metadata": {
    "slideshow": {
     "slide_type": "subslide"
    }
   },
   "outputs": [
    {
     "name": "stdout",
     "output_type": "stream",
     "text": [
      "1 1\n",
      "2 2\n",
      "3 6\n",
      "4 24\n",
      "5 120\n",
      "6 720\n",
      "7 5040\n",
      "8 40320\n",
      "9 362880\n",
      "10 3628800\n",
      "11 39916800\n",
      "12 479001600\n",
      "13 6227020800\n",
      "14 87178291200\n",
      "15 1307674368000\n",
      "16 20922789888000\n",
      "17 355687428096000\n",
      "18 6402373705728000\n",
      "19 121645100408832000\n",
      "20 2432902008176640000\n",
      "21 51090942171709440000\n",
      "22 1124000727777607680000\n",
      "23 25852016738884976640000\n",
      "24 620448401733239439360000\n",
      "25 15511210043330985984000000\n",
      "26 403291461126605635584000000\n",
      "27 10888869450418352160768000000\n",
      "28 304888344611713860501504000000\n",
      "29 8841761993739701954543616000000\n",
      "30 265252859812191058636308480000000\n",
      "31 8222838654177922817725562880000000\n",
      "32 263130836933693530167218012160000000\n",
      "33 8683317618811886495518194401280000000\n",
      "34 295232799039604140847618609643520000000\n",
      "35 10333147966386144929666651337523200000000\n",
      "36 371993326789901217467999448150835200000000\n",
      "37 13763753091226345046315979581580902400000000\n",
      "38 523022617466601111760007224100074291200000000\n",
      "39 20397882081197443358640281739902897356800000000\n",
      "40 815915283247897734345611269596115894272000000000\n",
      "41 33452526613163807108170062053440751665152000000000\n",
      "42 1405006117752879898543142606244511569936384000000000\n",
      "43 60415263063373835637355132068513997507264512000000000\n",
      "44 2658271574788448768043625811014615890319638528000000000\n",
      "45 119622220865480194561963161495657715064383733760000000000\n",
      "46 5502622159812088949850305428800254892961651752960000000000\n",
      "47 258623241511168180642964355153611979969197632389120000000000\n",
      "48 12413915592536072670862289047373375038521486354677760000000000\n"
     ]
    }
   ],
   "source": []
  },
  {
   "cell_type": "markdown",
   "metadata": {
    "slideshow": {
     "slide_type": "subslide"
    }
   },
   "source": [
    "## Multiprocessing Issues/What Else\n",
    "* primary drawback: sharing data between processes is expensive since all communication between processes requires serialization (pickling) the data\n",
    "* what we didn't cover\n",
    " * futures: objects that wrap threading or multiprocessing depending on what kind of concurrency we need (I/O vs. CPU)\n",
    " * AsyncIO: current state of the art in Python concurrent programming"
   ]
  }
 ],
 "metadata": {
  "celltoolbar": "Slideshow",
  "kernelspec": {
   "display_name": "Python 3",
   "language": "python",
   "name": "python3"
  },
  "language_info": {
   "codemirror_mode": {
    "name": "ipython",
    "version": 3
   },
   "file_extension": ".py",
   "mimetype": "text/x-python",
   "name": "python",
   "nbconvert_exporter": "python",
   "pygments_lexer": "ipython3",
   "version": "3.6.1"
  }
 },
 "nbformat": 4,
 "nbformat_minor": 1
}
