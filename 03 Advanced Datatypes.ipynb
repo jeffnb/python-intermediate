{
 "cells": [
  {
   "cell_type": "markdown",
   "metadata": {
    "slideshow": {
     "slide_type": "slide"
    }
   },
   "source": [
    "# The `collections` module"
   ]
  },
  {
   "cell_type": "markdown",
   "metadata": {
    "slideshow": {
     "slide_type": "subslide"
    }
   },
   "source": [
    "## Ordered Dictionaries"
   ]
  },
  {
   "cell_type": "code",
   "execution_count": 1,
   "metadata": {
    "scrolled": false
   },
   "outputs": [
    {
     "name": "stdout",
     "output_type": "stream",
     "text": [
      "{'three': 0, 'two': 6, 'one': 3}\n"
     ]
    }
   ],
   "source": [
    "%%python2\n",
    "# dictionaries did not retain insertion order prior to Python 3.6\n",
    "d = {}\n",
    "d['one'] = 3\n",
    "d['two'] = 6\n",
    "d['three'] = 0\n",
    "print(d)"
   ]
  },
  {
   "cell_type": "code",
   "execution_count": 4,
   "metadata": {},
   "outputs": [
    {
     "name": "stdout",
     "output_type": "stream",
     "text": [
      "OrderedDict([('one', 3), ('two', 6), ('three', 0)])\n"
     ]
    }
   ],
   "source": [
    "%%python2 \n",
    "from collections import OrderedDict\n",
    "d = OrderedDict()\n",
    "d['one'] = 3\n",
    "d['two'] = 6\n",
    "d['three'] = 0\n",
    "print(d)"
   ]
  },
  {
   "cell_type": "code",
   "execution_count": 7,
   "metadata": {},
   "outputs": [
    {
     "name": "stdout",
     "output_type": "stream",
     "text": [
      "OrderedDict([('one', 3), ('two', 6), ('three', 0)])\n",
      "3\n"
     ]
    }
   ],
   "source": [
    "from collections import OrderedDict\n",
    "d = OrderedDict()\n",
    "d['one'] = 3\n",
    "d['two'] = 6\n",
    "d['three'] = 0\n",
    "print(d)\n",
    "print(d['one'])"
   ]
  },
  {
   "cell_type": "code",
   "execution_count": 8,
   "metadata": {},
   "outputs": [
    {
     "name": "stdout",
     "output_type": "stream",
     "text": [
      "one => 3\n",
      "two => 6\n",
      "three => 0\n"
     ]
    }
   ],
   "source": [
    "%%python2\n",
    "from collections import OrderedDict\n",
    "d = OrderedDict()\n",
    "d['one'] = 3\n",
    "d['two'] = 6\n",
    "d['three'] = 0\n",
    "\n",
    "for k, v in d.items():\n",
    "    print('%s => %s' % (k, v))"
   ]
  },
  {
   "cell_type": "code",
   "execution_count": 8,
   "metadata": {},
   "outputs": [
    {
     "data": {
      "text/plain": [
       "{'one': 3, 'three': 0, 'two': 6}"
      ]
     },
     "execution_count": 8,
     "metadata": {},
     "output_type": "execute_result"
    }
   ],
   "source": [
    "# Python 3.6 dicts retain insertion order by default\n",
    "# see https://mail.python.org/pipermail/python-dev/2016-September/146327.html\n",
    "# NOTE: behavior does not seem to match the text of the URL above = {}, but try in shell\n",
    "# Additionally, the spec considers this an implementation detail not a specification so be careful relying on order\n",
    "d = {}\n",
    "d['one'] = 3\n",
    "d['two'] = 6\n",
    "d['three'] = 0\n",
    "d"
   ]
  },
  {
   "cell_type": "code",
   "execution_count": 9,
   "metadata": {},
   "outputs": [
    {
     "name": "stdout",
     "output_type": "stream",
     "text": [
      "('three', 0)\n",
      "('two', 6)\n",
      "('one', 3)\n"
     ]
    },
    {
     "data": {
      "text/plain": [
       "OrderedDict()"
      ]
     },
     "execution_count": 9,
     "metadata": {},
     "output_type": "execute_result"
    }
   ],
   "source": [
    "# destructively iterate over a dict\n",
    "while len(d):\n",
    "    print(d.popitem())\n",
    "d"
   ]
  },
  {
   "cell_type": "code",
   "execution_count": 10,
   "metadata": {},
   "outputs": [
    {
     "name": "stdout",
     "output_type": "stream",
     "text": [
      "OrderedDict([('one', 3), ('two', 6), ('three', 0)])\n",
      "OrderedDict([('two', 6), ('three', 0), ('one', 3)])\n",
      "OrderedDict([('three', 0), ('two', 6), ('one', 3)])\n"
     ]
    }
   ],
   "source": [
    "# OrderedDict less useful in Python 3.6, but it does have a\n",
    "# new method...\n",
    "from collections import OrderedDict\n",
    "d = OrderedDict()\n",
    "d['one'] = 3\n",
    "d['two'] = 6\n",
    "d['three'] = 0\n",
    "print(d)\n",
    "d.move_to_end('one')\n",
    "print(d)\n",
    "d.move_to_end('three', False)\n",
    "print(d)"
   ]
  },
  {
   "cell_type": "code",
   "execution_count": 11,
   "metadata": {},
   "outputs": [
    {
     "name": "stdout",
     "output_type": "stream",
     "text": [
      "Help on built-in function move_to_end:\n",
      "\n",
      "move_to_end(...) method of collections.OrderedDict instance\n",
      "    Move an existing element to the end (or beginning if last==False).\n",
      "    \n",
      "    Raises KeyError if the element does not exist.\n",
      "    When last=True, acts like a fast version of self[key]=self.pop(key).\n",
      "\n"
     ]
    }
   ],
   "source": [
    "help(d.move_to_end)"
   ]
  },
  {
   "cell_type": "markdown",
   "metadata": {
    "slideshow": {
     "slide_type": "slide"
    }
   },
   "source": [
    "# The `collections` module: Default Dictionaries"
   ]
  },
  {
   "cell_type": "markdown",
   "metadata": {
    "slideshow": {
     "slide_type": "subslide"
    }
   },
   "source": [
    "## Default Dictionaries\n",
    "* suppose we need a default value for any key which does not exist in the dictionary\n",
    " * we can use the __`get()`__ function, or __`setdefault()`__ (or an exception handler), or we can use a `Default Dictionary`"
   ]
  },
  {
   "cell_type": "code",
   "execution_count": 32,
   "metadata": {},
   "outputs": [
    {
     "data": {
      "text/plain": [
       "{'a': 1, 'c': 1, 'e': 2, 'f': 1, 'l': 1, 'o': 1, 'r': 1, 's': 2}"
      ]
     },
     "execution_count": 32,
     "metadata": {},
     "output_type": "execute_result"
    }
   ],
   "source": [
    "# what we did before...\n",
    "\n",
    "def count_letters(word):\n",
    "    '''Returns a dict of letters and how many times the letter\n",
    "    appeared in the word passed in'''\n",
    "    count = {}\n",
    "    for ltr in word:\n",
    "        count[ltr] = count.setdefault(ltr, 0) + 1\n",
    "        count[ltr] = count.get(ltr, 0) + 1\n",
    "    return count\n",
    "\n",
    "count_letters('salesforce')"
   ]
  },
  {
   "cell_type": "code",
   "execution_count": 16,
   "metadata": {},
   "outputs": [
    {
     "data": {
      "text/plain": [
       "0"
      ]
     },
     "execution_count": 16,
     "metadata": {},
     "output_type": "execute_result"
    }
   ],
   "source": [
    "bar = {}\n",
    "bar.get(\"foo\", 0)"
   ]
  },
  {
   "cell_type": "code",
   "execution_count": 17,
   "metadata": {},
   "outputs": [
    {
     "data": {
      "text/plain": [
       "{}"
      ]
     },
     "execution_count": 17,
     "metadata": {},
     "output_type": "execute_result"
    }
   ],
   "source": [
    "bar"
   ]
  },
  {
   "cell_type": "code",
   "execution_count": 18,
   "metadata": {},
   "outputs": [
    {
     "data": {
      "text/plain": [
       "0"
      ]
     },
     "execution_count": 18,
     "metadata": {},
     "output_type": "execute_result"
    }
   ],
   "source": [
    "bar.setdefault(\"foo\", 0)"
   ]
  },
  {
   "cell_type": "code",
   "execution_count": 19,
   "metadata": {},
   "outputs": [
    {
     "data": {
      "text/plain": [
       "{'foo': 0}"
      ]
     },
     "execution_count": 19,
     "metadata": {},
     "output_type": "execute_result"
    }
   ],
   "source": [
    "bar"
   ]
  },
  {
   "cell_type": "code",
   "execution_count": 14,
   "metadata": {
    "scrolled": true
   },
   "outputs": [
    {
     "name": "stdout",
     "output_type": "stream",
     "text": [
      "Help on built-in function setdefault:\n",
      "\n",
      "setdefault(...) method of builtins.dict instance\n",
      "    D.setdefault(k[,d]) -> D.get(k,d), also set D[k]=d if k not in D\n",
      "\n"
     ]
    }
   ],
   "source": [
    "foo = {}\n",
    "help(foo.setdefault)"
   ]
  },
  {
   "cell_type": "code",
   "execution_count": 15,
   "metadata": {},
   "outputs": [
    {
     "name": "stdout",
     "output_type": "stream",
     "text": [
      "Help on built-in function get:\n",
      "\n",
      "get(...) method of builtins.dict instance\n",
      "    D.get(k[,d]) -> D[k] if k in D, else d.  d defaults to None.\n",
      "\n"
     ]
    }
   ],
   "source": [
    "help(foo.get)"
   ]
  },
  {
   "cell_type": "code",
   "execution_count": 33,
   "metadata": {
    "scrolled": true
   },
   "outputs": [
    {
     "data": {
      "text/plain": [
       "defaultdict(int,\n",
       "            {' ': 6,\n",
       "             'e': 7,\n",
       "             'f': 1,\n",
       "             'h': 3,\n",
       "             'n': 1,\n",
       "             'o': 4,\n",
       "             'r': 4,\n",
       "             't': 5,\n",
       "             'u': 1,\n",
       "             'w': 2})"
      ]
     },
     "execution_count": 33,
     "metadata": {},
     "output_type": "execute_result"
    }
   ],
   "source": [
    "from collections import defaultdict\n",
    "\n",
    "def count_letters(word):\n",
    "    '''Returns a dict of letters and how many times the letter\n",
    "    appeared in the string passed in.'''\n",
    "    # When creating a defaultdict,\n",
    "    # the passed argument dictates what the\n",
    "    # default value will be (int = 0, str = \"\", list = [])\n",
    "    count = defaultdict(int)\n",
    "    for ltr in word:\n",
    "        count[ltr] += 1\n",
    "    return count\n",
    "\n",
    "count_letters('one two three four two three three')"
   ]
  },
  {
   "cell_type": "code",
   "execution_count": 20,
   "metadata": {},
   "outputs": [],
   "source": [
    "from collections import defaultdict\n",
    "baz = defaultdict(int)"
   ]
  },
  {
   "cell_type": "code",
   "execution_count": 21,
   "metadata": {},
   "outputs": [
    {
     "data": {
      "text/plain": [
       "0"
      ]
     },
     "execution_count": 21,
     "metadata": {},
     "output_type": "execute_result"
    }
   ],
   "source": [
    "baz[0]"
   ]
  },
  {
   "cell_type": "code",
   "execution_count": 22,
   "metadata": {},
   "outputs": [
    {
     "data": {
      "text/plain": [
       "defaultdict(int, {0: 0})"
      ]
     },
     "execution_count": 22,
     "metadata": {},
     "output_type": "execute_result"
    }
   ],
   "source": [
    "baz"
   ]
  },
  {
   "cell_type": "code",
   "execution_count": 23,
   "metadata": {},
   "outputs": [],
   "source": [
    "baz[0] = \"hello\""
   ]
  },
  {
   "cell_type": "code",
   "execution_count": 24,
   "metadata": {},
   "outputs": [
    {
     "data": {
      "text/plain": [
       "'hello'"
      ]
     },
     "execution_count": 24,
     "metadata": {},
     "output_type": "execute_result"
    }
   ],
   "source": [
    "baz[0]"
   ]
  },
  {
   "cell_type": "markdown",
   "metadata": {
    "slideshow": {
     "slide_type": "subslide"
    }
   },
   "source": [
    "# Lab: Default Dictionaries\n",
    "* read from a file where each line is a word followed by a count, e.g.,\n",
    "<pre>\n",
    "    apple 2\n",
    "    pear 3\n",
    "    cherry 5\n",
    "    apple 3\n",
    "    pear 6\n",
    "    apple 1\n",
    "</pre>\n",
    "(as shown above, words may be duplicated)\n",
    "* generate a __`defaultdict`__ where the keys are the words and the value are a _list_ of all the counts for that word, e.g.,\n",
    "<pre>\n",
    "defaultdict(&lt;class 'list'>, {'apple': ['2', '3', '1'], 'pear': ['3', '6'], 'cherry': ['5']})\n",
    "</pre>"
   ]
  },
  {
   "cell_type": "markdown",
   "metadata": {
    "slideshow": {
     "slide_type": "slide"
    }
   },
   "source": [
    "# The `collections` module: Deque"
   ]
  },
  {
   "cell_type": "markdown",
   "metadata": {
    "slideshow": {
     "slide_type": "subslide"
    }
   },
   "source": [
    "# Deque\n",
    "* double ended queue\n",
    "* pronounced \"deck\""
   ]
  },
  {
   "cell_type": "code",
   "execution_count": 26,
   "metadata": {},
   "outputs": [
    {
     "name": "stdout",
     "output_type": "stream",
     "text": [
      "deque([0, 1, 2, 3, 4, 5, 6, 7, 8, 9], maxlen=50)\n",
      "deque([7, 8, 9, 0, 1, 2, 3, 4, 5, 6], maxlen=50)\n",
      "deque([1, 2, 3, 4, 5, 6, 7, 8, 9, 0], maxlen=50)\n",
      "deque(['a', 1, 2, 3, 4, 5, 6, 7, 8, 9, 0], maxlen=50)\n",
      "deque(['a', 1, 2, 3, 4, 5, 6, 7, 8, 9, 0, 'b', 'c', 'd'], maxlen=50)\n",
      "deque([-3, -2, -1, 'a', 1, 2, 3, 4, 5, 6, 7, 8, 9, 0, 'b', 'c', 'd'], maxlen=50)\n"
     ]
    }
   ],
   "source": [
    "from collections import deque\n",
    "dq = deque(range(10), maxlen=50) # maxlen is optional\n",
    "print(dq)\n",
    "dq.rotate(3) # +n takes items from right, prepends to left, vice versa for -n\n",
    "print(dq)\n",
    "dq.rotate(-4)\n",
    "print(dq)\n",
    "dq.appendleft('a') # appending to full deque discards item(s) from other end\n",
    "print(dq)\n",
    "dq.extend('bcd')\n",
    "print(dq)\n",
    "dq.extendleft((-1, -2, -3))\n",
    "print(dq)"
   ]
  },
  {
   "cell_type": "code",
   "execution_count": 33,
   "metadata": {},
   "outputs": [
    {
     "data": {
      "text/plain": [
       "'c'"
      ]
     },
     "execution_count": 33,
     "metadata": {},
     "output_type": "execute_result"
    }
   ],
   "source": [
    "dq.pop() # same as list"
   ]
  },
  {
   "cell_type": "code",
   "execution_count": 31,
   "metadata": {},
   "outputs": [
    {
     "data": {
      "text/plain": [
       "2"
      ]
     },
     "execution_count": 31,
     "metadata": {},
     "output_type": "execute_result"
    }
   ],
   "source": [
    "foo = [1,2,3,4,5,6]\n",
    "foo.pop(1)"
   ]
  },
  {
   "cell_type": "code",
   "execution_count": 34,
   "metadata": {},
   "outputs": [
    {
     "data": {
      "text/plain": [
       "-2"
      ]
     },
     "execution_count": 34,
     "metadata": {},
     "output_type": "execute_result"
    }
   ],
   "source": [
    "dq.popleft() # specific to deque, as is rotate()"
   ]
  },
  {
   "cell_type": "code",
   "execution_count": 40,
   "metadata": {},
   "outputs": [
    {
     "name": "stdout",
     "output_type": "stream",
     "text": [
      "deque(['b', 0, 9, 8, 7, 6, 5, 4, 2, 1, 'a', -1, 1, 1, 1, 1], maxlen=50)\n",
      "deque(['b', 0, 9, 8, 7, 6, 5, 4, 2, 'a', -1, 1, 1, 1, 1], maxlen=50)\n"
     ]
    }
   ],
   "source": [
    "dq.extend([1,1,1,1])\n",
    "print(dq)\n"
   ]
  },
  {
   "cell_type": "code",
   "execution_count": null,
   "metadata": {},
   "outputs": [],
   "source": [
    "dq.remove(1) # same as list\n",
    "print(dq)"
   ]
  },
  {
   "cell_type": "code",
   "execution_count": 36,
   "metadata": {},
   "outputs": [
    {
     "name": "stdout",
     "output_type": "stream",
     "text": [
      "deque(['b', 0, 9, 8, 7, 6, 5, 4, 2, 1, 'a', -1], maxlen=50)\n"
     ]
    }
   ],
   "source": [
    "dq.reverse()\n",
    "print(dq)"
   ]
  },
  {
   "cell_type": "code",
   "execution_count": 63,
   "metadata": {},
   "outputs": [
    {
     "data": {
      "text/plain": [
       "deque([8, 7, 6, 5, 4, -1, -2, 0])"
      ]
     },
     "execution_count": 63,
     "metadata": {},
     "output_type": "execute_result"
    }
   ],
   "source": [
    "dq.append(0)\n",
    "dq"
   ]
  },
  {
   "cell_type": "markdown",
   "metadata": {},
   "source": [
    "# Lab: Deque\n",
    "* use a deque to print the last _n_ lines of file, much like __`tail`__ in Linux\n",
    "* remember that you can iterate through a file a line at a time"
   ]
  },
  {
   "cell_type": "markdown",
   "metadata": {
    "slideshow": {
     "slide_type": "slide"
    }
   },
   "source": [
    "# The `collections` module: Named Tuples\n"
   ]
  },
  {
   "cell_type": "markdown",
   "metadata": {
    "slideshow": {
     "slide_type": "subslide"
    }
   },
   "source": [
    "## Named Tuples\n",
    "* tuples are quite handy, but they are missing a key feature when using them as records–sometimes we want to name the fields\n",
    " * more efficient (i.e., less memory) than dictionaries because instances don't need to contain the keys themselves, as dictionaries do, just the values\n",
    "* __`namedtuple()`__ returns not an individual object but a new class, customized for the given names"
   ]
  },
  {
   "cell_type": "code",
   "execution_count": 7,
   "metadata": {},
   "outputs": [],
   "source": [
    "from collections import namedtuple\n",
    "Point = namedtuple('Point', 'x y')\n",
    "#Point = namedtuple('Point', ['x', 'y'])\n",
    "# first argument is the name of the tuple class itself\n",
    "# second argument is attribute names as an iterable of strings or a\n",
    "# single space/comma-delimited string"
   ]
  },
  {
   "cell_type": "code",
   "execution_count": 4,
   "metadata": {},
   "outputs": [
    {
     "data": {
      "text/plain": [
       "['__add__',\n",
       " '__class__',\n",
       " '__contains__',\n",
       " '__delattr__',\n",
       " '__dir__',\n",
       " '__doc__',\n",
       " '__eq__',\n",
       " '__format__',\n",
       " '__ge__',\n",
       " '__getattribute__',\n",
       " '__getitem__',\n",
       " '__getnewargs__',\n",
       " '__gt__',\n",
       " '__hash__',\n",
       " '__init__',\n",
       " '__init_subclass__',\n",
       " '__iter__',\n",
       " '__le__',\n",
       " '__len__',\n",
       " '__lt__',\n",
       " '__module__',\n",
       " '__mul__',\n",
       " '__ne__',\n",
       " '__new__',\n",
       " '__reduce__',\n",
       " '__reduce_ex__',\n",
       " '__repr__',\n",
       " '__rmul__',\n",
       " '__setattr__',\n",
       " '__sizeof__',\n",
       " '__slots__',\n",
       " '__str__',\n",
       " '__subclasshook__',\n",
       " '_asdict',\n",
       " '_fields',\n",
       " '_make',\n",
       " '_replace',\n",
       " '_source',\n",
       " 'count',\n",
       " 'index',\n",
       " 'x',\n",
       " 'y']"
      ]
     },
     "execution_count": 4,
     "metadata": {},
     "output_type": "execute_result"
    }
   ],
   "source": [
    "dir(Point)"
   ]
  },
  {
   "cell_type": "code",
   "execution_count": 8,
   "metadata": {},
   "outputs": [
    {
     "name": "stdout",
     "output_type": "stream",
     "text": [
      "Point(x=1, y=3) <class '__main__.Point'>\n"
     ]
    }
   ],
   "source": [
    "point1 = Point(1, 3)\n",
    "print(point1, type(point1))\n"
   ]
  },
  {
   "cell_type": "code",
   "execution_count": 9,
   "metadata": {},
   "outputs": [
    {
     "name": "stdout",
     "output_type": "stream",
     "text": [
      "Point(x=-3, y=-2)\n"
     ]
    }
   ],
   "source": [
    "point2 = Point(-3, -2)\n",
    "print(point2)"
   ]
  },
  {
   "cell_type": "code",
   "execution_count": 10,
   "metadata": {},
   "outputs": [
    {
     "name": "stdout",
     "output_type": "stream",
     "text": [
      "1 -2\n",
      "1 3\n"
     ]
    }
   ],
   "source": [
    "print(point1[0], point2[1]) # what we would do if just a tuple\n",
    "print(point1.x, point1.y) # much nicer, because fields are named"
   ]
  },
  {
   "cell_type": "code",
   "execution_count": 11,
   "metadata": {},
   "outputs": [
    {
     "ename": "AttributeError",
     "evalue": "can't set attribute",
     "output_type": "error",
     "traceback": [
      "\u001b[0;31m---------------------------------------------------------------------------\u001b[0m",
      "\u001b[0;31mAttributeError\u001b[0m                            Traceback (most recent call last)",
      "\u001b[0;32m<ipython-input-11-81d46d8fe356>\u001b[0m in \u001b[0;36m<module>\u001b[0;34m()\u001b[0m\n\u001b[0;32m----> 1\u001b[0;31m \u001b[0mpoint1\u001b[0m\u001b[0;34m.\u001b[0m\u001b[0mx\u001b[0m \u001b[0;34m=\u001b[0m \u001b[0;36m10\u001b[0m\u001b[0;34m\u001b[0m\u001b[0m\n\u001b[0m",
      "\u001b[0;31mAttributeError\u001b[0m: can't set attribute"
     ]
    }
   ],
   "source": [
    "point1.x = 10"
   ]
  },
  {
   "cell_type": "code",
   "execution_count": 13,
   "metadata": {},
   "outputs": [
    {
     "name": "stdout",
     "output_type": "stream",
     "text": [
      "City(name='Tokyo', country='JP', population=36.933, coordinates=(35.689722, 139.691667))\n",
      "36.933\n",
      "(35.689722, 139.691667)\n",
      "JP\n"
     ]
    }
   ],
   "source": [
    "from collections import namedtuple\n",
    "City = namedtuple('City', 'name country population coordinates')\n",
    "tokyo = City('Tokyo', 'JP', 36.933, (35.689722, 139.691667))\n",
    "print(tokyo)\n",
    "print(tokyo.population) # Prefer to use attribute or field names\n",
    "print(tokyo.coordinates)\n",
    "print(tokyo[1]) # use indexing if I wish"
   ]
  },
  {
   "cell_type": "code",
   "execution_count": 14,
   "metadata": {},
   "outputs": [
    {
     "data": {
      "text/plain": [
       "(type, __main__.City, 'JP', 'JP')"
      ]
     },
     "execution_count": 14,
     "metadata": {},
     "output_type": "execute_result"
    }
   ],
   "source": [
    "type(City), type(tokyo), tokyo[1], tokyo.country"
   ]
  },
  {
   "cell_type": "code",
   "execution_count": 15,
   "metadata": {},
   "outputs": [
    {
     "name": "stdout",
     "output_type": "stream",
     "text": [
      "name\n",
      "country\n",
      "population\n",
      "coordinates\n"
     ]
    }
   ],
   "source": [
    "for field in City._fields: # tuple containing field names\n",
    "    print(field)"
   ]
  },
  {
   "cell_type": "markdown",
   "metadata": {
    "slideshow": {
     "slide_type": "subslide"
    }
   },
   "source": [
    "# Lab: Named Tuples\n",
    "1. Create a named tuple called __`Card`__ (representing a playing card) which has two fields, __`rank`__ and __`suit`__\n",
    "2. Create a list of __`Card`__s, which, when initialized, contains all 52 cards in a deck\n",
    "3. In other words, the list (or deck) should contain  \n",
    "\n",
    "`[Card(rank=2, suit='clubs'), Card(rank=3, suit='clubs'), Card(rank=4, suit='clubs'), ..., Card(rank='Q', suit='spades'), Card(rank='K', suit='spades'), Card(rank='A', suit='spades')] `"
   ]
  },
  {
   "cell_type": "code",
   "execution_count": 16,
   "metadata": {
    "scrolled": true
   },
   "outputs": [
    {
     "name": "stdout",
     "output_type": "stream",
     "text": [
      "[Card(rank=2, suit='S'), Card(rank=3, suit='S'), Card(rank=4, suit='S'), Card(rank=5, suit='S'), Card(rank=6, suit='S'), Card(rank=7, suit='S'), Card(rank=8, suit='S'), Card(rank=9, suit='S'), Card(rank=10, suit='S'), Card(rank='J', suit='S'), Card(rank='Q', suit='S'), Card(rank='K', suit='S'), Card(rank='A', suit='S'), Card(rank=2, suit='H'), Card(rank=3, suit='H'), Card(rank=4, suit='H'), Card(rank=5, suit='H'), Card(rank=6, suit='H'), Card(rank=7, suit='H'), Card(rank=8, suit='H'), Card(rank=9, suit='H'), Card(rank=10, suit='H'), Card(rank='J', suit='H'), Card(rank='Q', suit='H'), Card(rank='K', suit='H'), Card(rank='A', suit='H'), Card(rank=2, suit='C'), Card(rank=3, suit='C'), Card(rank=4, suit='C'), Card(rank=5, suit='C'), Card(rank=6, suit='C'), Card(rank=7, suit='C'), Card(rank=8, suit='C'), Card(rank=9, suit='C'), Card(rank=10, suit='C'), Card(rank='J', suit='C'), Card(rank='Q', suit='C'), Card(rank='K', suit='C'), Card(rank='A', suit='C'), Card(rank=2, suit='D'), Card(rank=3, suit='D'), Card(rank=4, suit='D'), Card(rank=5, suit='D'), Card(rank=6, suit='D'), Card(rank=7, suit='D'), Card(rank=8, suit='D'), Card(rank=9, suit='D'), Card(rank=10, suit='D'), Card(rank='J', suit='D'), Card(rank='Q', suit='D'), Card(rank='K', suit='D'), Card(rank='A', suit='D')]\n"
     ]
    }
   ],
   "source": [
    "Card = namedtuple(\"Card\", [\"rank\", \"suit\"])\n",
    "cards = []\n",
    "for suit in \"SHCD\":\n",
    "    for rank in [2,3,4,5,6,7,8,9,10,\"J\",\"Q\",\"K\",\"A\"]:\n",
    "        cards.append(Card(rank, suit))\n",
    "        \n",
    "print(cards)"
   ]
  },
  {
   "cell_type": "code",
   "execution_count": 17,
   "metadata": {},
   "outputs": [],
   "source": [
    "cards = [Card(rank, suit) for suit in \"SHCD\" \n",
    "                          for rank in [2,3,4,5,6,7,8,9,10,\"J\",\"Q\",\"K\",\"A\"]]"
   ]
  },
  {
   "cell_type": "markdown",
   "metadata": {
    "slideshow": {
     "slide_type": "slide"
    }
   },
   "source": [
    "# Advanced Datatypes: Counters"
   ]
  },
  {
   "cell_type": "markdown",
   "metadata": {
    "slideshow": {
     "slide_type": "subslide"
    }
   },
   "source": [
    "## Counters\n",
    "* __`dict`__ subclass for counting things\n",
    "* unordered collection where things being counted are `dict` keys and the counts are `dict` values\n",
    "* __`Counters`__ can have negative values"
   ]
  },
  {
   "cell_type": "code",
   "execution_count": 18,
   "metadata": {},
   "outputs": [
    {
     "data": {
      "text/plain": [
       "Counter()"
      ]
     },
     "execution_count": 18,
     "metadata": {},
     "output_type": "execute_result"
    }
   ],
   "source": [
    "from collections import Counter\n",
    "c = Counter()\n",
    "c"
   ]
  },
  {
   "cell_type": "code",
   "execution_count": 19,
   "metadata": {},
   "outputs": [
    {
     "data": {
      "text/plain": [
       "Counter({' ': 6,\n",
       "         'a': 2,\n",
       "         'b': 1,\n",
       "         'e': 5,\n",
       "         'h': 1,\n",
       "         'i': 2,\n",
       "         'n': 1,\n",
       "         'o': 2,\n",
       "         'r': 2,\n",
       "         's': 2,\n",
       "         't': 3,\n",
       "         'u': 1,\n",
       "         'v': 2,\n",
       "         'w': 2,\n",
       "         'y': 2})"
      ]
     },
     "execution_count": 19,
     "metadata": {},
     "output_type": "execute_result"
    }
   ],
   "source": [
    "c = Counter('visa its everywhere you want to be')\n",
    "c"
   ]
  },
  {
   "cell_type": "code",
   "execution_count": 20,
   "metadata": {},
   "outputs": [
    {
     "data": {
      "text/plain": [
       "Counter({'blue': -1, 'red': 5})"
      ]
     },
     "execution_count": 20,
     "metadata": {},
     "output_type": "execute_result"
    }
   ],
   "source": [
    "c = Counter({'red': 5, 'blue': -1})\n",
    "c"
   ]
  },
  {
   "cell_type": "code",
   "execution_count": 52,
   "metadata": {},
   "outputs": [
    {
     "data": {
      "text/plain": [
       "Counter({'bar': 2, 'foo': 1})"
      ]
     },
     "execution_count": 52,
     "metadata": {},
     "output_type": "execute_result"
    }
   ],
   "source": [
    "c = Counter(foo=1, bar=2)\n",
    "c"
   ]
  },
  {
   "cell_type": "code",
   "execution_count": 26,
   "metadata": {},
   "outputs": [
    {
     "data": {
      "text/plain": [
       "<itertools.chain at 0x10dbc4a90>"
      ]
     },
     "execution_count": 26,
     "metadata": {},
     "output_type": "execute_result"
    }
   ],
   "source": [
    "c = Counter(red=6, blue=5, green=3, pink=1, yellow=-3)\n",
    "c.elements() # returns an iterator"
   ]
  },
  {
   "cell_type": "code",
   "execution_count": 27,
   "metadata": {},
   "outputs": [
    {
     "data": {
      "text/plain": [
       "['red',\n",
       " 'red',\n",
       " 'red',\n",
       " 'red',\n",
       " 'red',\n",
       " 'red',\n",
       " 'blue',\n",
       " 'blue',\n",
       " 'blue',\n",
       " 'blue',\n",
       " 'blue',\n",
       " 'green',\n",
       " 'green',\n",
       " 'green',\n",
       " 'pink']"
      ]
     },
     "execution_count": 27,
     "metadata": {},
     "output_type": "execute_result"
    }
   ],
   "source": [
    "list(c.elements())"
   ]
  },
  {
   "cell_type": "code",
   "execution_count": 28,
   "metadata": {},
   "outputs": [
    {
     "data": {
      "text/plain": [
       "[('red', 6), ('blue', 5), ('green', 3)]"
      ]
     },
     "execution_count": 28,
     "metadata": {},
     "output_type": "execute_result"
    }
   ],
   "source": [
    "c.most_common(3) # returns the n most common elements"
   ]
  },
  {
   "cell_type": "code",
   "execution_count": 29,
   "metadata": {},
   "outputs": [
    {
     "name": "stdout",
     "output_type": "stream",
     "text": [
      "Counter({'red': 6, 'blue': 5, 'green': 3, 'pink': 1, 'yellow': -3})\n"
     ]
    },
    {
     "data": {
      "text/plain": [
       "Counter({'blue': 0, 'f5': 0, 'green': 1, 'pink': 1, 'red': 3, 'yellow': -3})"
      ]
     },
     "execution_count": 29,
     "metadata": {},
     "output_type": "execute_result"
    }
   ],
   "source": [
    "print(c)\n",
    "d = Counter(f5=0, pink=0, red=3, blue=5, green=2)\n",
    "c.subtract(d) # preserves negative values\n",
    "c"
   ]
  },
  {
   "cell_type": "code",
   "execution_count": 80,
   "metadata": {},
   "outputs": [
    {
     "data": {
      "text/plain": [
       "dict_items([('pink', 1), ('blue', 0), ('green', 1), ('yellow', -3), ('red', 3)])"
      ]
     },
     "execution_count": 80,
     "metadata": {},
     "output_type": "execute_result"
    }
   ],
   "source": [
    "c.items()"
   ]
  },
  {
   "cell_type": "code",
   "execution_count": 30,
   "metadata": {},
   "outputs": [
    {
     "data": {
      "text/plain": [
       "Counter({'green': 1, 'pink': 1, 'red': 3})"
      ]
     },
     "execution_count": 30,
     "metadata": {},
     "output_type": "execute_result"
    }
   ],
   "source": [
    "+c # generates new Counter, discarding 0s or negatives"
   ]
  },
  {
   "cell_type": "code",
   "execution_count": 83,
   "metadata": {},
   "outputs": [
    {
     "data": {
      "text/plain": [
       "Counter({'yellow': 3})"
      ]
     },
     "execution_count": 83,
     "metadata": {},
     "output_type": "execute_result"
    }
   ],
   "source": [
    "c = Counter(red=6, blue=5, green=3, pink=1, yellow=-3)\n",
    "c = -c # discard positives and multiply remaining negatives by -1\n",
    "c"
   ]
  },
  {
   "cell_type": "code",
   "execution_count": 63,
   "metadata": {},
   "outputs": [
    {
     "data": {
      "text/plain": [
       "Counter({'green': 6, 'pink': -1, 'red': 4})"
      ]
     },
     "execution_count": 63,
     "metadata": {},
     "output_type": "execute_result"
    }
   ],
   "source": [
    "c = Counter({'green': 1, 'pink': 1, 'red': 3})\n",
    "c.update(red=1, green=5, pink=-2) # updates the counts\n",
    "c"
   ]
  },
  {
   "cell_type": "code",
   "execution_count": 85,
   "metadata": {},
   "outputs": [
    {
     "data": {
      "text/plain": [
       "Counter({'g': 1, 'green': 6, 'pink': -1, 'red': 4, 's': 1, 'y': 3, 'z': 1})"
      ]
     },
     "execution_count": 85,
     "metadata": {},
     "output_type": "execute_result"
    }
   ],
   "source": [
    "c.update('syzygy')\n",
    "c"
   ]
  },
  {
   "cell_type": "code",
   "execution_count": 86,
   "metadata": {},
   "outputs": [
    {
     "data": {
      "text/plain": [
       "Counter({'g': 10, 'green': 6, 'pink': -1, 'red': 10, 's': 1, 'y': 10, 'z': 1})"
      ]
     },
     "execution_count": 86,
     "metadata": {},
     "output_type": "execute_result"
    }
   ],
   "source": [
    "d = Counter(red=6, y=7, g=9)\n",
    "c.update(d)\n",
    "c"
   ]
  },
  {
   "cell_type": "code",
   "execution_count": 33,
   "metadata": {},
   "outputs": [
    {
     "data": {
      "text/plain": [
       "Counter({'a': 4, 'b': 3, 'c': 9})"
      ]
     },
     "execution_count": 33,
     "metadata": {},
     "output_type": "execute_result"
    }
   ],
   "source": [
    "c = Counter(a=3, b=1, c=4)\n",
    "d = Counter(a=1, b=2, c=5)\n",
    "c + d"
   ]
  },
  {
   "cell_type": "code",
   "execution_count": 34,
   "metadata": {},
   "outputs": [
    {
     "data": {
      "text/plain": [
       "Counter({'a': 2})"
      ]
     },
     "execution_count": 34,
     "metadata": {},
     "output_type": "execute_result"
    }
   ],
   "source": [
    "c - d"
   ]
  },
  {
   "cell_type": "code",
   "execution_count": 89,
   "metadata": {},
   "outputs": [
    {
     "data": {
      "text/plain": [
       "Counter({'a': 1, 'b': 1, 'c': 4})"
      ]
     },
     "execution_count": 89,
     "metadata": {},
     "output_type": "execute_result"
    }
   ],
   "source": [
    "c & d # min(c[x], d[x])"
   ]
  },
  {
   "cell_type": "code",
   "execution_count": 90,
   "metadata": {},
   "outputs": [
    {
     "data": {
      "text/plain": [
       "Counter({'a': 3, 'b': 2, 'c': 5})"
      ]
     },
     "execution_count": 90,
     "metadata": {},
     "output_type": "execute_result"
    }
   ],
   "source": [
    "c | d # max(c[x], d[x])"
   ]
  },
  {
   "cell_type": "markdown",
   "metadata": {
    "slideshow": {
     "slide_type": "subslide"
    }
   },
   "source": [
    "## Lab: Counters\n",
    "* Use a __`Counter`__ to count the words in the `prideandprejudice.txt`\n",
    "* That is, read in a file, separate it into words, and use a `Counter` to count the number of occurrences of each word in the file.\n",
    "* Be sure to add any error checking you feel is necessary"
   ]
  },
  {
   "cell_type": "code",
   "execution_count": null,
   "metadata": {},
   "outputs": [],
   "source": [
    "fh = open(\"FOO\")\n",
    "book = fh.read()"
   ]
  }
 ],
 "metadata": {
  "celltoolbar": "Slideshow",
  "kernelspec": {
   "display_name": "Python 3",
   "language": "python",
   "name": "python3"
  },
  "language_info": {
   "codemirror_mode": {
    "name": "ipython",
    "version": 3
   },
   "file_extension": ".py",
   "mimetype": "text/x-python",
   "name": "python",
   "nbconvert_exporter": "python",
   "pygments_lexer": "ipython3",
   "version": "3.6.1"
  }
 },
 "nbformat": 4,
 "nbformat_minor": 1
}
