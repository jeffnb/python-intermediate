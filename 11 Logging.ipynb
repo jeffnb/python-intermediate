{
 "cells": [
  {
   "cell_type": "markdown",
   "metadata": {
    "slideshow": {
     "slide_type": "slide"
    }
   },
   "source": [
    "# Logging"
   ]
  },
  {
   "cell_type": "markdown",
   "metadata": {
    "slideshow": {
     "slide_type": "subslide"
    }
   },
   "source": [
    "# Logging\n",
    "* Logging is a means of tracking events that happen when some software runs\n",
    "* We add logging calls to our code to indicate that certain events have occurred\n",
    "* Events have an importance which we, the developer, ascribe to the event; the importance can also be called the level or severity\n",
    "* There are set of convenience functions for simple logging usage: debug(), info(), warning(), error(), and critical()\n",
    "* When should we use logging? When we do use logging, which states should we use?\n",
    "* Python provides a standard and configurable logging facility. You can set up the collection\n",
    "of loggers &amp; handlers separately from their actual *use* in your program"
   ]
  },
  {
   "cell_type": "markdown",
   "metadata": {
    "slideshow": {
     "slide_type": "subslide"
    }
   },
   "source": [
    "![alt-text](loggingLevels.jpg \"Logging Levels\")"
   ]
  },
  {
   "cell_type": "code",
   "execution_count": null,
   "metadata": {
    "collapsed": true
   },
   "outputs": [],
   "source": []
  },
  {
   "cell_type": "code",
   "execution_count": 9,
   "metadata": {
    "slideshow": {
     "slide_type": "subslide"
    }
   },
   "outputs": [
    {
     "name": "stderr",
     "output_type": "stream",
     "text": [
      "WARNING:root:Watch out!\n"
     ]
    }
   ],
   "source": [
    "import logging\n",
    "from importlib import reload\n",
    "# need to reload logging module because Jupyter already imports and\n",
    "# sets up a logger\n",
    "# you don't need to do this outside of Jupyter\n",
    "reload(logging)\n",
    "logging.warning('Watch out!')\n",
    "logging.info('not important')"
   ]
  },
  {
   "cell_type": "code",
   "execution_count": null,
   "metadata": {},
   "outputs": [],
   "source": []
  },
  {
   "cell_type": "code",
   "execution_count": 10,
   "metadata": {
    "slideshow": {
     "slide_type": "subslide"
    }
   },
   "outputs": [
    {
     "name": "stdout",
     "output_type": "stream",
     "text": [
      "DEBUG:root:This message should go to the log file\n",
      "INFO:root:So should this\n",
      "WARNING:root:And this, too\n"
     ]
    }
   ],
   "source": [
    "#import logging\n",
    "from importlib import reload\n",
    "reload(logging)\n",
    "logging.basicConfig(filename='example.log',\n",
    "                    filemode='w',\n",
    "                    level=logging.DEBUG)\n",
    "\n",
    "logging.debug('This message should go to the log file')\n",
    "logging.info('So should this')\n",
    "logging.warning('And this, too')\n",
    "\n",
    "with open('example.log', 'r') as f:\n",
    "    for line in f:\n",
    "        print(line, end='')"
   ]
  },
  {
   "cell_type": "code",
   "execution_count": 11,
   "metadata": {},
   "outputs": [
    {
     "name": "stdout",
     "output_type": "stream",
     "text": [
      "Help on function basicConfig in module logging:\n",
      "\n",
      "basicConfig(**kwargs)\n",
      "    Do basic configuration for the logging system.\n",
      "    \n",
      "    This function does nothing if the root logger already has handlers\n",
      "    configured. It is a convenience method intended for use by simple scripts\n",
      "    to do one-shot configuration of the logging package.\n",
      "    \n",
      "    The default behaviour is to create a StreamHandler which writes to\n",
      "    sys.stderr, set a formatter using the BASIC_FORMAT format string, and\n",
      "    add the handler to the root logger.\n",
      "    \n",
      "    A number of optional keyword arguments may be specified, which can alter\n",
      "    the default behaviour.\n",
      "    \n",
      "    filename  Specifies that a FileHandler be created, using the specified\n",
      "              filename, rather than a StreamHandler.\n",
      "    filemode  Specifies the mode to open the file, if filename is specified\n",
      "              (if filemode is unspecified, it defaults to 'a').\n",
      "    format    Use the specified format string for the handler.\n",
      "    datefmt   Use the specified date/time format.\n",
      "    style     If a format string is specified, use this to specify the\n",
      "              type of format string (possible values '%', '{', '$', for\n",
      "              %-formatting, :meth:`str.format` and :class:`string.Template`\n",
      "              - defaults to '%').\n",
      "    level     Set the root logger level to the specified level.\n",
      "    stream    Use the specified stream to initialize the StreamHandler. Note\n",
      "              that this argument is incompatible with 'filename' - if both\n",
      "              are present, 'stream' is ignored.\n",
      "    handlers  If specified, this should be an iterable of already created\n",
      "              handlers, which will be added to the root handler. Any handler\n",
      "              in the list which does not have a formatter assigned will be\n",
      "              assigned the formatter created in this function.\n",
      "    \n",
      "    Note that you could specify a stream created using open(filename, mode)\n",
      "    rather than passing the filename and mode in. However, it should be\n",
      "    remembered that StreamHandler does not close its stream (since it may be\n",
      "    using sys.stdout or sys.stderr), whereas FileHandler closes its stream\n",
      "    when the handler is closed.\n",
      "    \n",
      "    .. versionchanged:: 3.2\n",
      "       Added the ``style`` parameter.\n",
      "    \n",
      "    .. versionchanged:: 3.3\n",
      "       Added the ``handlers`` parameter. A ``ValueError`` is now thrown for\n",
      "       incompatible arguments (e.g. ``handlers`` specified together with\n",
      "       ``filename``/``filemode``, or ``filename``/``filemode`` specified\n",
      "       together with ``stream``, or ``handlers`` specified together with\n",
      "       ``stream``.\n",
      "\n"
     ]
    }
   ],
   "source": [
    "help(logging.basicConfig)"
   ]
  },
  {
   "cell_type": "code",
   "execution_count": 5,
   "metadata": {},
   "outputs": [
    {
     "name": "stdout",
     "output_type": "stream",
     "text": [
      "2017-10-11 21:22:26,509 - DEBUG - This message should go to the log file\n",
      "2017-10-11 21:22:26,509 - INFO - So should this\n",
      "2017-10-11 21:22:26,509 - WARNING - And this, too\n"
     ]
    }
   ],
   "source": [
    "# same example but with more detailed logging configuration\n",
    "# ...instead of basicConfig\n",
    "#import logging\n",
    "from importlib import reload\n",
    "reload(logging)\n",
    "\n",
    "logger = logging.getLogger(__name__)\n",
    "fhandler = logging.FileHandler(filename='example2.log', mode='w')\n",
    "formatter = logging.Formatter('%(asctime)s - %(levelname)s - %(message)s')\n",
    "fhandler.setFormatter(formatter)\n",
    "logger.addHandler(fhandler)\n",
    "logger.setLevel(logging.DEBUG)\n",
    "\n",
    "logging.debug('This message should go to the log file')\n",
    "logging.info('So should this')\n",
    "logging.warning('And this, too')\n",
    "\n",
    "with open('example2.log', 'r') as f:\n",
    "    for line in f:\n",
    "        print(line, end='')"
   ]
  },
  {
   "cell_type": "code",
   "execution_count": 6,
   "metadata": {
    "collapsed": true,
    "slideshow": {
     "slide_type": "subslide"
    }
   },
   "outputs": [],
   "source": [
    "# Example of setting the log level via the command line\n",
    "import logging\n",
    "import sys\n",
    "\n",
    "LEVELS = { 'debug': logging.DEBUG,\n",
    "            'info': logging.INFO,\n",
    "            'warning': logging.WARNING,\n",
    "            'error': logging.ERROR,\n",
    "            'critical': logging.CRITICAL\n",
    "}\n",
    "\n",
    "if len(sys.argv) > 1:\n",
    "    level_name = sys.argv[1]\n",
    "    level = LEVELS.get(level_name, logging.NOTSET)\n",
    "    logging.basicConfig(level=level)\n",
    "\n",
    "logging.debug('This is a debug message')\n",
    "logging.info('This is an info message')\n",
    "logging.warning('This is a warning message')\n",
    "logging.error('This is an error message')\n",
    "logging.critical('This is a critical error message')"
   ]
  },
  {
   "cell_type": "code",
   "execution_count": 8,
   "metadata": {},
   "outputs": [
    {
     "name": "stderr",
     "output_type": "stream",
     "text": [
      "INFO:root:This is an info message\n",
      "WARNING:root:This is a warning message\n",
      "ERROR:root:This is an error message\n",
      "CRITICAL:root:This is a critical error message\n"
     ]
    }
   ],
   "source": [
    "%%bash\n",
    "python3 logargv.py info"
   ]
  },
  {
   "cell_type": "code",
   "execution_count": 18,
   "metadata": {
    "slideshow": {
     "slide_type": "subslide"
    }
   },
   "outputs": [
    {
     "name": "stderr",
     "output_type": "stream",
     "text": [
      "WARNING:module1:This message comes from one module\n",
      "WARNING:module2:And this message comes from another module\n"
     ]
    }
   ],
   "source": [
    "from importlib import reload\n",
    "reload(logging)\n",
    "\n",
    "logging.basicConfig(level=logging.WARNING)\n",
    "\n",
    "logger1 = logging.getLogger('module1')\n",
    "logger2 = logging.getLogger('module2')\n",
    "\n",
    "logger1.warning('This message comes from one module')\n",
    "logger2.warning('And this message comes from another module')\n",
    "\n",
    "logger2.setLevel(logging.CRITICAL)\n",
    "logger2.warning('We will not see this...')"
   ]
  },
  {
   "cell_type": "markdown",
   "metadata": {
    "slideshow": {
     "slide_type": "subslide"
    }
   },
   "source": [
    "### Lab: Logging\n",
    "* create two classes, each of which declares its own logger\n",
    "* add a method to each class which uses the logger from its class\n",
    "* instantiate the classes and invoke the methods to demonstrate that both loggers are being used"
   ]
  }
 ],
 "metadata": {
  "celltoolbar": "Slideshow",
  "kernelspec": {
   "display_name": "Python 3",
   "language": "python",
   "name": "python3"
  },
  "language_info": {
   "codemirror_mode": {
    "name": "ipython",
    "version": 3
   },
   "file_extension": ".py",
   "mimetype": "text/x-python",
   "name": "python",
   "nbconvert_exporter": "python",
   "pygments_lexer": "ipython3",
   "version": "3.6.1"
  }
 },
 "nbformat": 4,
 "nbformat_minor": 1
}
