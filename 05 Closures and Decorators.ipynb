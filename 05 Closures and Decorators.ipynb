{
 "cells": [
  {
   "cell_type": "markdown",
   "metadata": {
    "slideshow": {
     "slide_type": "slide"
    }
   },
   "source": [
    "# Functional Closures and Decorators"
   ]
  },
  {
   "cell_type": "markdown",
   "metadata": {
    "slideshow": {
     "slide_type": "subslide"
    }
   },
   "source": [
    "##  Closures\n",
    "* In order to understand closures, let's review the Python scoping rules: LEGB\n",
    "  * L = local\n",
    "  * E = enclosing\n",
    "  * G = global\n",
    "  * B = builtin (e.g., len() function)\n",
    "  \n",
    "        a = 'global scope'\n",
    "   \n",
    "        def outer_func():\n",
    "            b = 'local to outer_func()'\n",
    "            def inner_func():\n",
    "                c = 'local to inner_func()'\n",
    "                print(b, 'enclosing scope')\n",
    "                print(a, 'global scope')\n",
    "                \n",
    "* When a function references a name that is not local, Python first attempts to resolve that name in the enclosing scope\n",
    "* A *closure* is a nested function which remembers a value or values from the enclosing lexical scope even when the program flow is no longer in the enclosing scope"
   ]
  },
  {
   "cell_type": "code",
   "execution_count": 17,
   "metadata": {
    "slideshow": {
     "slide_type": "subslide"
    }
   },
   "outputs": [
    {
     "data": {
      "text/plain": [
       "49"
      ]
     },
     "execution_count": 17,
     "metadata": {},
     "output_type": "execute_result"
    }
   ],
   "source": [
    "def make_adder(x):\n",
    "    \n",
    "    def adder(y):\n",
    "        return x + y # Python uses LEGB to find 'x'\n",
    "    \n",
    "    return adder\n",
    "\n",
    "add39 = make_adder(39)\n",
    "add39(10)"
   ]
  },
  {
   "cell_type": "code",
   "execution_count": 18,
   "metadata": {},
   "outputs": [
    {
     "data": {
      "text/plain": [
       "'<function make_adder.<locals>.adder at 0x105702a60>'"
      ]
     },
     "execution_count": 18,
     "metadata": {},
     "output_type": "execute_result"
    }
   ],
   "source": [
    "# let's use repr so we can see the address of the function\n",
    "#type(add39)\n",
    "repr(add39)"
   ]
  },
  {
   "cell_type": "code",
   "execution_count": 19,
   "metadata": {
    "scrolled": true
   },
   "outputs": [
    {
     "data": {
      "text/plain": [
       "(<cell at 0x1056aad38: int object at 0x10374af90>,)"
      ]
     },
     "execution_count": 19,
     "metadata": {},
     "output_type": "execute_result"
    }
   ],
   "source": [
    "# all functions have a closure attribute\n",
    "add39.__closure__"
   ]
  },
  {
   "cell_type": "code",
   "execution_count": 20,
   "metadata": {},
   "outputs": [
    {
     "data": {
      "text/plain": [
       "39"
      ]
     },
     "execution_count": 20,
     "metadata": {},
     "output_type": "execute_result"
    }
   ],
   "source": [
    "# notice that the cell object has a reference to an int object\n",
    "add39.__closure__[0].cell_contents"
   ]
  },
  {
   "cell_type": "markdown",
   "metadata": {
    "collapsed": true,
    "slideshow": {
     "slide_type": "subslide"
    }
   },
   "source": [
    "* One case where closures are frequently used is in building function wrappers\n",
    "* Suppose we want to log each invocation of a function:"
   ]
  },
  {
   "cell_type": "code",
   "execution_count": 23,
   "metadata": {
    "slideshow": {
     "slide_type": "-"
    }
   },
   "outputs": [
    {
     "name": "stdout",
     "output_type": "stream",
     "text": [
      "44\n",
      "Calling <function make_adder.<locals>.adder at 0x105702a60>((10,), {})\n"
     ]
    },
    {
     "data": {
      "text/plain": [
       "49"
      ]
     },
     "execution_count": 23,
     "metadata": {},
     "output_type": "execute_result"
    }
   ],
   "source": [
    "def logging(func):\n",
    "    def wrapper(*args, **kwargs):\n",
    "        print('Calling {}({}, {})'.format(func, args, kwargs))\n",
    "        return func(*args, **kwargs)\n",
    "    return wrapper\n",
    "\n",
    "logging_add39 = logging(add39)\n",
    "print(add39(5)) # remember that add39 just adds 39 to our argument\n",
    "logging_add39(10)"
   ]
  },
  {
   "cell_type": "code",
   "execution_count": 24,
   "metadata": {
    "slideshow": {
     "slide_type": "subslide"
    }
   },
   "outputs": [
    {
     "data": {
      "text/plain": [
       "<function __main__.make_adder.<locals>.adder>"
      ]
     },
     "execution_count": 24,
     "metadata": {},
     "output_type": "execute_result"
    }
   ],
   "source": [
    "logging_add39.__closure__[0].cell_contents"
   ]
  },
  {
   "cell_type": "markdown",
   "metadata": {
    "slideshow": {
     "slide_type": "subslide"
    }
   },
   "source": [
    "## Decorators\n",
    "* Wrapper functions are so common, that Python has its own term for it–a *decorator*.\n",
    "* Why might you want to use a decorator?\n",
    "  * sometimes you want to modify a function’s behavior without explicitly modifying the function, e.g., pre/post actions, debugging, etc. \n",
    "  * suppose we have a set of tasks that need to be performed by many different functions, e.g.,\n",
    "   * access control\n",
    "   * cleanup\n",
    "   * error handling\n",
    "   * logging\n",
    " * ...in other words, there is some boilerplate code that needs to be executed before or after  every invocation of the function\n"
   ]
  },
  {
   "cell_type": "markdown",
   "metadata": {
    "slideshow": {
     "slide_type": "subslide"
    }
   },
   "source": [
    "## Decorators build on topics we already know...\n",
    "* nested functions\n",
    "* variable positional args (`*args`)\n",
    "* variable keyword args (`**kwargs`)\n",
    "* functions are objects (actually everything in Python is an object)"
   ]
  },
  {
   "cell_type": "code",
   "execution_count": 25,
   "metadata": {
    "scrolled": true,
    "slideshow": {
     "slide_type": "subslide"
    }
   },
   "outputs": [
    {
     "name": "stdout",
     "output_type": "stream",
     "text": [
      "Running plain old add_ints()\n",
      "8\n",
      "Running cooler add_ints()\n",
      "Running function: add_ints\n",
      "Positional arguments: (3, 5)\n",
      "Keyword arguments: {}\n",
      "Result: 8\n"
     ]
    },
    {
     "data": {
      "text/plain": [
       "8"
      ]
     },
     "execution_count": 25,
     "metadata": {},
     "output_type": "execute_result"
    }
   ],
   "source": [
    "def document_it(func):\n",
    "    # below is a nested, or inner function\n",
    "    def new_function(*args, **kwargs):\n",
    "        print('Running function: {}'.format(func.__name__))\n",
    "        print('Positional arguments: {}'.format(args))\n",
    "        print('Keyword arguments: {}'.format(kwargs))\n",
    "        # here we invoke the function passed in as an argument\n",
    "        result = func(*args, **kwargs)\n",
    "        print('Result: {}'.format(result))\n",
    "        return result\n",
    "    \n",
    "    # document_it() is returning a reference to the inner function\n",
    "    return new_function\n",
    "\n",
    "def add_ints(a, b):\n",
    "    return a + b\n",
    "\n",
    "print('Running plain old add_ints()')\n",
    "print(add_ints(3, 5))\n",
    "\n",
    "# manual decorator assignment\n",
    "cooler_add_ints = document_it(add_ints) \n",
    "\n",
    "print('Running cooler add_ints()')\n",
    "cooler_add_ints(3, 5)"
   ]
  },
  {
   "cell_type": "code",
   "execution_count": 30,
   "metadata": {},
   "outputs": [
    {
     "name": "stdout",
     "output_type": "stream",
     "text": [
      "Running function: add_ints\n",
      "Positional arguments: (3, 5)\n",
      "Keyword arguments: {}\n",
      "Result: 8\n",
      "8\n",
      "Running function: sub_ints\n",
      "Positional arguments: (3, 5)\n",
      "Keyword arguments: {}\n",
      "Result: -2\n",
      "-2\n"
     ]
    }
   ],
   "source": [
    "# below is a nested, or inner function\n",
    "def new_function(func, *args, **kwargs):\n",
    "    print('Running function: {}'.format(func.__name__))\n",
    "    print('Positional arguments: {}'.format(args))\n",
    "    print('Keyword arguments: {}'.format(kwargs))\n",
    "    # here we invoke the function passed in as an argument\n",
    "    result = func(*args, **kwargs)\n",
    "    print('Result: {}'.format(result))\n",
    "    return result\n",
    "    \n",
    "\n",
    "def add_ints(a, b):\n",
    "    return a + b\n",
    "\n",
    "def sub_ints(a, b):\n",
    "    return a - b\n",
    "\n",
    "# manual decorator assignment\n",
    "print(new_function(add_ints, 3, 5) )\n",
    "print(new_function(sub_ints, 3, 5))"
   ]
  },
  {
   "cell_type": "code",
   "execution_count": 29,
   "metadata": {
    "slideshow": {
     "slide_type": "subslide"
    }
   },
   "outputs": [
    {
     "name": "stdout",
     "output_type": "stream",
     "text": [
      "Running function: add_ints\n",
      "Positional arguments: (4, 7)\n",
      "Keyword arguments: {}\n",
      "Result: 11\n"
     ]
    },
    {
     "data": {
      "text/plain": [
       "11"
      ]
     },
     "execution_count": 29,
     "metadata": {},
     "output_type": "execute_result"
    }
   ],
   "source": [
    "# decorator shorthand for what we did above\n",
    "@document_it\n",
    "def add_ints(a, b):\n",
    "    return a + b\n",
    "\n",
    "add_ints(4, 7)"
   ]
  },
  {
   "cell_type": "markdown",
   "metadata": {
    "slideshow": {
     "slide_type": "subslide"
    }
   },
   "source": [
    "## Lab: Decorators\n",
    "1. Create a function called __`printer`__ that takes a string and prints it\n",
    "  * Then create a wrapper that will print the number of times each letter appears in the string passed in to __`printer`__, followed by the string.\n",
    "  * Use the wrapper as a decorator on your __`printer`__ function.\n",
    "* Create a class, __`Coord2D`__, which represents a point in 2-D space (i.e., x and y coordinates). Implement the following methods:\n",
    " * __`distance()`__, which computes the distance between the current __`Coord2D`__ object and another __`Coord2D`__ object, i.e., __`d = c1.distance(c2)`__, where c1 and c2 are __`Coord2D`__ objects and d is a scalar–use __`math.sqrt`__ or __`math.hypot`__\n",
    " * __`add()`__: adds a __`Coord2D`__ object to the current one and returns a new __`Coord2D`__ object which represents their sum, i.e., __`c3 = c1.add(c2)`__\n",
    " * __`sub()`__, which subtracts a __`Coord2D`__ object from the current one, i.e. __`c3 = c1.sub(c2)`__\n",
    " * __`noneg()`__, which returns a new __`Coord2D`__ object whose coordinates are not negative, so __`c1 = c1.noneg()`__ would ensure __`c1`__ has nonnegative coordinates\n",
    "* Use a decorator to ensure that the arguments to a function, as well as its return value, are nonnegative. Decorate the __`add()`__ and __`sub()`__ methods\n"
   ]
  },
  {
   "cell_type": "code",
   "execution_count": 32,
   "metadata": {},
   "outputs": [
    {
     "name": "stdout",
     "output_type": "stream",
     "text": [
      "<function printer.<locals>.inner at 0x10579b488>\n",
      "Counter({'b': 2, 'o': 1})\n",
      "bob\n"
     ]
    }
   ],
   "source": [
    "from collections import Counter\n",
    "\n",
    "def printer(func):\n",
    "    \n",
    "    # This actually creates counter and calls function\n",
    "    def inner(*args, **kwargs):\n",
    "        c = Counter(args[0])\n",
    "        print(c)\n",
    "        return func(*args, **kwargs)\n",
    "    \n",
    "    return inner\n",
    "\n",
    "@printer\n",
    "def hello_world(name):\n",
    "    print(name)\n",
    "\n",
    "\n",
    "\n",
    "\n",
    "print(hello_world)  \n",
    "hello_world(\"bob\")\n"
   ]
  },
  {
   "cell_type": "code",
   "execution_count": 1,
   "metadata": {
    "collapsed": true
   },
   "outputs": [],
   "source": [
    "from coord2d import Coord2d\n",
    "c1 = Coord2d(1, 2)\n",
    "c2 = Coord2d(-2, -3)"
   ]
  },
  {
   "cell_type": "code",
   "execution_count": 2,
   "metadata": {},
   "outputs": [
    {
     "data": {
      "text/plain": [
       "(Coord2d(x=1, y=2), Coord2d(x=-2, y=-3))"
      ]
     },
     "execution_count": 2,
     "metadata": {},
     "output_type": "execute_result"
    }
   ],
   "source": [
    "c1, c2"
   ]
  },
  {
   "cell_type": "code",
   "execution_count": 3,
   "metadata": {},
   "outputs": [
    {
     "name": "stdout",
     "output_type": "stream",
     "text": [
      "Coord2d(x=1, y=2) Coord2d(x=-2, y=-3)\n"
     ]
    }
   ],
   "source": [
    "print(c1, c2)"
   ]
  },
  {
   "cell_type": "code",
   "execution_count": 4,
   "metadata": {},
   "outputs": [
    {
     "data": {
      "text/plain": [
       "5.830951894845301"
      ]
     },
     "execution_count": 4,
     "metadata": {},
     "output_type": "execute_result"
    }
   ],
   "source": [
    "c1.distance(c2)"
   ]
  },
  {
   "cell_type": "code",
   "execution_count": 8,
   "metadata": {},
   "outputs": [
    {
     "name": "stdout",
     "output_type": "stream",
     "text": [
      "type(a)= <class 'coord2d.Coord2d'>\n",
      "type(b)= <class 'coord2d.Coord2d'>\n"
     ]
    },
    {
     "data": {
      "text/plain": [
       "Coord2d(x=1, y=2)"
      ]
     },
     "execution_count": 8,
     "metadata": {},
     "output_type": "execute_result"
    }
   ],
   "source": [
    "c1.add(c2)"
   ]
  },
  {
   "cell_type": "code",
   "execution_count": 9,
   "metadata": {},
   "outputs": [
    {
     "name": "stdout",
     "output_type": "stream",
     "text": [
      "type(a)= <class 'coord2d.Coord2d'>\n",
      "type(b)= <class 'coord2d.Coord2d'>\n"
     ]
    },
    {
     "data": {
      "text/plain": [
       "Coord2d(x=0, y=0)"
      ]
     },
     "execution_count": 9,
     "metadata": {},
     "output_type": "execute_result"
    }
   ],
   "source": [
    "c2.sub(c1)"
   ]
  },
  {
   "cell_type": "markdown",
   "metadata": {
    "collapsed": true
   },
   "source": [
    "## Decorators with Arguments\n",
    "\n",
    "Think of this kind of decorator as a multi stage rocket:\n",
    "1. Decorator is called with arguments for decorator.  Decorator is returned. Outer most function done\n",
    "2. @Decorator now called with the function passed to it.  Second stage function done.\n",
    "3. When the function is called the decorator is complete."
   ]
  },
  {
   "cell_type": "code",
   "execution_count": 33,
   "metadata": {},
   "outputs": [],
   "source": [
    "def run_multiple(times=1):\n",
    "    print(\"Setting up arguments for decorator: {}\".format(times))\n",
    "    def real_decorator(func):\n",
    "        print(\"Actual decorator called with the func: {}\".format(func.__name__))\n",
    "        def inner(*args, **kwargs):\n",
    "            print(\"Multiple runner\")\n",
    "            return [func(*args, **kwargs) for _ in range(times)]\n",
    "        return inner\n",
    "    return real_decorator"
   ]
  },
  {
   "cell_type": "code",
   "execution_count": 34,
   "metadata": {},
   "outputs": [
    {
     "name": "stdout",
     "output_type": "stream",
     "text": [
      "Setting up arguments for decorator: 10\n",
      "Actual decorator called with the func: print_name\n"
     ]
    }
   ],
   "source": [
    "@run_multiple(10)\n",
    "def print_name(name):\n",
    "    print(\"HELLO! {}\".format(name))\n",
    "    "
   ]
  },
  {
   "cell_type": "code",
   "execution_count": 35,
   "metadata": {},
   "outputs": [
    {
     "name": "stdout",
     "output_type": "stream",
     "text": [
      "Multiple runner\n",
      "HELLO! Bob\n",
      "HELLO! Bob\n",
      "HELLO! Bob\n",
      "HELLO! Bob\n",
      "HELLO! Bob\n",
      "HELLO! Bob\n",
      "HELLO! Bob\n",
      "HELLO! Bob\n",
      "HELLO! Bob\n",
      "HELLO! Bob\n"
     ]
    },
    {
     "data": {
      "text/plain": [
       "[None, None, None, None, None, None, None, None, None, None]"
      ]
     },
     "execution_count": 35,
     "metadata": {},
     "output_type": "execute_result"
    }
   ],
   "source": [
    "print_name(\"Bob\")"
   ]
  },
  {
   "cell_type": "code",
   "execution_count": 41,
   "metadata": {},
   "outputs": [],
   "source": [
    "def run_two(func):\n",
    "    print(\"In outer method\")\n",
    "    def inner(*args, **kwargs):\n",
    "        ret_vals = []\n",
    "        for i in range(2):\n",
    "            ret_vals.append(func(*args, **kwargs))\n",
    "        return ret_vals\n",
    "    return inner"
   ]
  },
  {
   "cell_type": "code",
   "execution_count": 42,
   "metadata": {},
   "outputs": [
    {
     "name": "stdout",
     "output_type": "stream",
     "text": [
      "In outer method\n"
     ]
    }
   ],
   "source": [
    "@run_two\n",
    "def adder(x, y):\n",
    "    return x + y"
   ]
  },
  {
   "cell_type": "code",
   "execution_count": 43,
   "metadata": {},
   "outputs": [
    {
     "data": {
      "text/plain": [
       "[30, 30]"
      ]
     },
     "execution_count": 43,
     "metadata": {},
     "output_type": "execute_result"
    }
   ],
   "source": [
    "adder(10, 20)"
   ]
  },
  {
   "cell_type": "code",
   "execution_count": null,
   "metadata": {},
   "outputs": [],
   "source": []
  }
 ],
 "metadata": {
  "celltoolbar": "Slideshow",
  "kernelspec": {
   "display_name": "Python 3",
   "language": "python",
   "name": "python3"
  },
  "language_info": {
   "codemirror_mode": {
    "name": "ipython",
    "version": 3
   },
   "file_extension": ".py",
   "mimetype": "text/x-python",
   "name": "python",
   "nbconvert_exporter": "python",
   "pygments_lexer": "ipython3",
   "version": "3.6.1"
  }
 },
 "nbformat": 4,
 "nbformat_minor": 1
}
